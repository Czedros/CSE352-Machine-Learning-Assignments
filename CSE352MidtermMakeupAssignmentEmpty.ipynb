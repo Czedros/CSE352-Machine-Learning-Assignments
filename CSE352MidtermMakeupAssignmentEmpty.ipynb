{
  "nbformat": 4,
  "nbformat_minor": 0,
  "metadata": {
    "colab": {
      "provenance": [],
      "authorship_tag": "ABX9TyO7ZaIAeIe63x8kaxPI+Jun",
      "include_colab_link": true
    },
    "kernelspec": {
      "name": "python3",
      "display_name": "Python 3"
    },
    "language_info": {
      "name": "python"
    }
  },
  "cells": [
    {
      "cell_type": "markdown",
      "metadata": {
        "id": "view-in-github",
        "colab_type": "text"
      },
      "source": [
        "<a href=\"https://colab.research.google.com/github/Czedros/CSE352-Machine-Learning-Assignments/blob/main/CSE352MidtermMakeupAssignmentEmpty.ipynb\" target=\"_parent\"><img src=\"https://colab.research.google.com/assets/colab-badge.svg\" alt=\"Open In Colab\"/></a>"
      ]
    },
    {
      "cell_type": "markdown",
      "source": [
        "# Introduction\n",
        "\n",
        "Name: [Enter Here]\n",
        "\n",
        "I understand that my submission needs to be my own work: [Initials]\n",
        "\n",
        "I understand that ChatGPT / Copilot / other AI tools are not allowed:  [Initials]\n",
        "\n",
        "Total Points: **75**\n",
        "\n",
        "Complete this notebook and submit it (save/print as pdf). Make sure all output is correct in the pdf before submitting (it sometimes gets cut off).\n",
        "\n",
        " The notebook needs to be a complete project report with your implementation, documentation including a short discussion of how your implementation works and your design choices, and experimental results (e.g., tables and charts with simulation results) with a short discussion of what they mean. Use the provided notebook cells and insert additional code and markdown cells as needed."
      ],
      "metadata": {
        "id": "or-AfmlaFBvr"
      }
    },
    {
      "cell_type": "markdown",
      "source": [
        "## Overview\n",
        "\n",
        "In this assignment, you will:\n",
        "- Implement the rules and structure for Ultimate Tic-Tac-Toe\n",
        "- Design a basic Monte Carlo Tree Search (MCTS) agent\n",
        "- Use MCTS to play against a human in the command line"
      ],
      "metadata": {
        "id": "jlbGPJMxmWXv"
      }
    },
    {
      "cell_type": "markdown",
      "source": [
        "#Setup\n",
        "\n",
        "To start this assignemnt, We first install a few neccesary Packages."
      ],
      "metadata": {
        "id": "Vqa7p5EtFPfq"
      }
    },
    {
      "cell_type": "code",
      "execution_count": null,
      "metadata": {
        "id": "8alld-up7_li"
      },
      "outputs": [],
      "source": [
        "!pip install numpy"
      ]
    },
    {
      "cell_type": "markdown",
      "source": [
        "#Ultimate Tic-Tac-Toe\n",
        "\n",
        "Ultimate Tic-Tac-Toe is a strategic extension of the classic Tic-Tac-Toe game. Rather than a single 3×3 grid, Ultimate Tic-Tac-Toe consists of a 3×3 grid where each cell contains another 3×3 Tic-Tac-Toe board. This layered setup creates a more complex game structure requiring players to think multiple moves ahead.\n",
        "\n",
        "The game was first popularized online in the early 2010s and is designed to emphasize positional play, long-term strategy, and adaptation to an evolving board state. Each player, X or O, takes turns placing their mark in a cell of one of the smaller boards. However, the twist lies in the move constraints: a player’s move determines which of the nine small boards their opponent must play in next. Specifically, if a player places their mark in cell (i, j) of a small board, their opponent must play in the (i, j) small board on their next turn.\n",
        "\n",
        "The objective is to win the larger game by winning three small boards in a row—horizontally, vertically, or diagonally—similar to classic Tic-Tac-Toe. A small board is won when a player has three marks in a row within it. If a player is sent to a board that is already won or drawn, they may play in any open board of their choosing.\n",
        "\n",
        "Ultimate Tic-Tac-Toe presents a more intricate challenge than its predecessor and is a rich environment for studying game trees, simulation-based planning, and reinforcement learning. For more information about the game and strategic insights, refer to its [Wikipedia page](https://en.wikipedia.org/wiki/Ultimate_tic-tac-toe)."
      ],
      "metadata": {
        "id": "dYcSRE2jmWMa"
      }
    },
    {
      "cell_type": "markdown",
      "source": [
        "#Visualizer Helper\n",
        "\n",
        "There are 2 ways to go about creating a board for Ultimate Tic Tac Toe, a 9x9 grid or a 3x3 of 3x3 grids. These will result in different ways to visualize the board.\n",
        "\n",
        "\n",
        "The following is a universal"
      ],
      "metadata": {
        "id": "dvY0Xy_SO54c"
      }
    },
    {
      "cell_type": "code",
      "source": [
        "import matplotlib.pyplot as plt\n",
        "import matplotlib.patches as patches\n",
        "import numpy as np\n",
        "\n",
        "def draw_ultimate_board(board, highlight=None):\n",
        "    \"\"\"\n",
        "    Pure Visualizer: Draws a 9x9 board.\n",
        "\n",
        "    board: 9x9 numpy array (0: empty, 1: X, 2: O)\n",
        "    highlight: (row, col) of active small board.\n",
        "    \"\"\"\n",
        "    fig, ax = plt.subplots(figsize=(6,6))\n",
        "    ax.set_xticks([])\n",
        "    ax.set_yticks([])\n",
        "    ax.set_xlim(0, 9)\n",
        "    ax.set_ylim(0, 9)\n",
        "\n",
        "    # Draw grid\n",
        "    for i in range(10):\n",
        "        lw = 2 if i % 3 == 0 else 0.5\n",
        "        ax.axhline(i, color='black', lw=lw)\n",
        "        ax.axvline(i, color='black', lw=lw)\n",
        "\n",
        "    # Draw pieces\n",
        "    for row in range(9):\n",
        "        for col in range(9):\n",
        "            val = board[row, col]\n",
        "            if val == 1:\n",
        "                ax.text(col+0.5, 8.5-row, 'X', ha='center', va='center', fontsize=16)\n",
        "            elif val == 2:\n",
        "                ax.text(col+0.5, 8.5-row, 'O', ha='center', va='center', fontsize=16)\n",
        "\n",
        "    # Highlight active board\n",
        "    if highlight:\n",
        "        y, x = highlight\n",
        "        rect = patches.Rectangle((x*3, 9-(y+1)*3), 3, 3, linewidth=2, edgecolor='red', facecolor='none')\n",
        "        ax.add_patch(rect)\n",
        "\n",
        "    plt.show()\n",
        "\n"
      ],
      "metadata": {
        "id": "1jK3QFHrFBbH"
      },
      "execution_count": 27,
      "outputs": []
    },
    {
      "cell_type": "markdown",
      "source": [
        "An usage of the visualizer code."
      ],
      "metadata": {
        "id": "JQPSrO8uRTTL"
      }
    },
    {
      "cell_type": "code",
      "source": [
        "# Example board\n",
        "board = np.zeros((9, 9), dtype=int)\n",
        "board[0, 0] = 1\n",
        "board[1, 1] = 2\n",
        "board[4, 4] = 1\n",
        "board[8, 8] = 2\n",
        "\n",
        "draw_ultimate_board(board, highlight=(1, 1))"
      ],
      "metadata": {
        "colab": {
          "base_uri": "https://localhost:8080/",
          "height": 499
        },
        "id": "k96Fi8lZRSlM",
        "outputId": "eaeaaaae-cb95-48d6-9dc3-c6509f4a4a4d"
      },
      "execution_count": 28,
      "outputs": [
        {
          "output_type": "display_data",
          "data": {
            "text/plain": [
              "<Figure size 600x600 with 1 Axes>"
            ],
            "image/png": "[encoded data removed]"
          },
          "metadata": {}
        }
      ]
    },
    {
      "cell_type": "code",
      "source": [
        "def nested_list_to_board(nested_game, highlight=None):\n",
        "    \"\"\"\n",
        "    Converts a 3x3 list of 3x3 arrays to a 9x9 board and draws it.\n",
        "    \"\"\"\n",
        "    board_array = np.zeros((9, 9), dtype=int)\n",
        "    for br in range(3):\n",
        "        for bc in range(3):\n",
        "            sb = nested_game[br][bc]\n",
        "            if isinstance(sb, np.ndarray):\n",
        "                board_array[br*3:(br+1)*3, bc*3:(bc+1)*3] = sb\n",
        "            else:\n",
        "                board_array[br*3:(br+1)*3, bc*3:(bc+1)*3] = np.array(sb)\n",
        "\n",
        "    draw_ultimate_board(board_array, highlight=highlight)\n"
      ],
      "metadata": {
        "id": "5xbUi3CzsPBK"
      },
      "execution_count": 29,
      "outputs": []
    },
    {
      "cell_type": "code",
      "source": [
        "nested_game = [\n",
        "    [np.zeros((3,3), dtype=int) for _ in range(3)] for _ in range(3)\n",
        "]\n",
        "nested_game[0][0][0,0] = 1\n",
        "nested_game[1][1][2,2] = 2\n",
        "\n",
        "nested_list_to_board(nested_game, highlight=(2, 0))"
      ],
      "metadata": {
        "id": "veMyisXgrkps",
        "outputId": "bd6e9d80-0d68-4520-9006-5e72e5bce616",
        "colab": {
          "base_uri": "https://localhost:8080/",
          "height": 499
        }
      },
      "execution_count": 31,
      "outputs": [
        {
          "output_type": "display_data",
          "data": {
            "text/plain": [
              "<Figure size 600x600 with 1 Axes>"
            ],
            "image/png": "[encoded data removed]"
          },
          "metadata": {}
        }
      ]
    },
    {
      "cell_type": "markdown",
      "source": [
        "#Part 1: Ultimate Tic-Tac-Toe [X Points]\n",
        "In the first part, you will implement the mechanics of Ultimate Tic-Tac-Toe, defining how the game progresses and determining legal moves and win conditions.\n",
        "\n",
        "This includes\n",
        "-"
      ],
      "metadata": {
        "id": "PFkDGV_BObd7"
      }
    },
    {
      "cell_type": "code",
      "source": [
        "import numpy as np\n",
        "\n",
        "class SmallBoard:\n",
        "    def __init__(self):\n",
        "        self.grid = np.zeros((3, 3), dtype=int)  # 0 = empty, 1 = X, 2 = O\n",
        "        self.winner = 0  # 0 = no one, 1 = X, 2 = O, -1 = tie\n",
        "        self.active = True\n",
        "\n",
        "    def play_move(self, row, col, player):\n",
        "        if self.grid[row, col] != 0 or not self.active:\n",
        "            return False\n",
        "        self.grid[row, col] = player\n",
        "        self.check_winner()\n",
        "        return True\n",
        "\n",
        "    def check_winner(self):\n",
        "        for i in range(3):\n",
        "            if np.all(self.grid[i, :] == self.grid[i, 0]) and self.grid[i, 0] != 0:\n",
        "                self._declare_winner(self.grid[i, 0])\n",
        "                return\n",
        "            if np.all(self.grid[:, i] == self.grid[0, i]) and self.grid[0, i] != 0:\n",
        "                self._declare_winner(self.grid[0, i])\n",
        "                return\n",
        "        if np.all(np.diag(self.grid) == self.grid[0, 0]) and self.grid[0, 0] != 0:\n",
        "            self._declare_winner(self.grid[0, 0])\n",
        "            return\n",
        "        if np.all(np.diag(np.fliplr(self.grid)) == self.grid[0, 2]) and self.grid[0, 2] != 0:\n",
        "            self._declare_winner(self.grid[0, 2])\n",
        "            return\n",
        "        if np.all(self.grid != 0):\n",
        "            self._declare_winner(-1)\n",
        "\n",
        "    def _declare_winner(self, winner):\n",
        "        self.winner = winner\n",
        "        self.active = False\n"
      ],
      "metadata": {
        "id": "BOB-BnkwO4vm"
      },
      "execution_count": 3,
      "outputs": []
    },
    {
      "cell_type": "code",
      "source": [
        "import numpy as np\n",
        "import random\n",
        "\n",
        "class UltimateBoard:\n",
        "    def __init__(self):\n",
        "        self.boards = [[SmallBoard() for _ in range(3)] for _ in range(3)]\n",
        "        self.current_player = 1  # 1 = X, 2 = O\n",
        "        self.next_board = None  # (row, col) of next board; None means any active board\n",
        "        self.global_winner = 0\n",
        "\n",
        "    def play_move(self, big_r, big_c, small_r, small_c):\n",
        "        board = self.boards[big_r][big_c]\n",
        "        if self.next_board and (big_r, big_c) != self.next_board:\n",
        "            print(\"You must play in board\", self.next_board)\n",
        "            return False\n",
        "        if not board.play_move(small_r, small_c, self.current_player):\n",
        "            print(\"Invalid move.\")\n",
        "            return False\n",
        "\n",
        "        # Update next board\n",
        "        next_r, next_c = small_r, small_c\n",
        "        if self.boards[next_r][next_c].active:\n",
        "            self.next_board = (next_r, next_c)\n",
        "        else:\n",
        "            self.next_board = None  # Any active board\n",
        "\n",
        "        # Check for global win\n",
        "        self.check_global_winner()\n",
        "\n",
        "        # Swap player\n",
        "        self.current_player = 3 - self.current_player\n",
        "        return True\n",
        "\n",
        "    def check_global_winner(self):\n",
        "        grid = np.array([[b.winner if b.winner > 0 else 0 for b in row] for row in self.boards])\n",
        "        for i in range(3):\n",
        "            if np.all(grid[i, :] == grid[i, 0]) and grid[i, 0] != 0:\n",
        "                self.global_winner = grid[i, 0]\n",
        "                return\n",
        "            if np.all(grid[:, i] == grid[0, i]) and grid[0, i] != 0:\n",
        "                self.global_winner = grid[0, i]\n",
        "                return\n",
        "        if np.all(np.diag(grid) == grid[0, 0]) and grid[0, 0] != 0:\n",
        "            self.global_winner = grid[0, 0]\n",
        "            return\n",
        "        if np.all(np.diag(np.fliplr(grid)) == grid[0, 2]) and grid[0, 2] != 0:\n",
        "            self.global_winner = grid[0, 2]\n",
        "            return\n",
        "\n",
        "    def get_legal_moves(self):\n",
        "        moves = []\n",
        "        for big_r in range(3):\n",
        "            for big_c in range(3):\n",
        "                board = self.boards[big_r][big_c]\n",
        "                if self.next_board and (big_r, big_c) != self.next_board:\n",
        "                    continue\n",
        "                if board.active:\n",
        "                    for i in range(3):\n",
        "                        for j in range(3):\n",
        "                            if board.grid[i, j] == 0:\n",
        "                                moves.append((big_r, big_c, i, j))\n",
        "        return moves\n",
        "\n",
        "    def display(self):\n",
        "        # Display the full board in CLI format\n",
        "        def cell_symbol(val):\n",
        "            return '.' if val == 0 else ('X' if val == 1 else 'O')\n",
        "\n",
        "        for big_r in range(3):\n",
        "            for r in range(3):\n",
        "                line = ''\n",
        "                for big_c in range(3):\n",
        "                    board = self.boards[big_r][big_c]\n",
        "                    line += ' '.join(cell_symbol(board.grid[r, c]) for c in range(3)) + ' | '\n",
        "                print(line)\n",
        "            print('-' * 20)\n"
      ],
      "metadata": {
        "id": "fW2E4zkAW9Vk"
      },
      "execution_count": 4,
      "outputs": []
    },
    {
      "cell_type": "markdown",
      "source": [],
      "metadata": {
        "id": "q0SJ1cfEXVZ9"
      }
    },
    {
      "cell_type": "code",
      "source": [
        "def ultimate_board_to_board(game, highlight=None):\n",
        "    \"\"\"\n",
        "    Converts an UltimateBoard object into a 9x9 board and draws it.\n",
        "    \"\"\"\n",
        "    board_array = np.zeros((9, 9), dtype=int)\n",
        "    for br in range(3):\n",
        "        for bc in range(3):\n",
        "            sb = game.boards[br][bc].grid\n",
        "            board_array[br*3:(br+1)*3, bc*3:(bc+1)*3] = sb\n",
        "\n",
        "    # If highlight not given, automatically use game's next_board if available\n",
        "    if highlight is None and hasattr(game, 'next_board'):\n",
        "        highlight = game.next_board\n",
        "\n",
        "    draw_ultimate_board(board_array, highlight=highlight)\n",
        "\n"
      ],
      "metadata": {
        "id": "dIZLcKwpsZrK"
      },
      "execution_count": 22,
      "outputs": []
    },
    {
      "cell_type": "code",
      "source": [
        "def random_bot(board: UltimateBoard):\n",
        "    return random.choice(board.get_legal_moves())\n",
        "\n",
        "def play_game():\n",
        "    game = UltimateBoard()\n",
        "    while not game.global_winner and game.get_legal_moves():\n",
        "        print(\"\\nCurrent Turn: Player {}\".format(\"X\" if game.current_player == 1 else \"O\"))\n",
        "        ultimate_board_to_board(game)\n",
        "\n",
        "        if game.next_board:\n",
        "          print(\"You must play in small board:\", game.next_board)\n",
        "        else:\n",
        "          print(\"You may play in any active board.\")\n",
        "\n",
        "        if game.current_player == 1:\n",
        "            move = input(\"Enter your move (big_r big_c small_r small_c): \").split()\n",
        "            try:\n",
        "                move = tuple(map(int, move))\n",
        "                if len(move) != 4 or not game.play_move(*move):\n",
        "                    print(\"Try again.\")\n",
        "            except:\n",
        "                print(\"Invalid input.\")\n",
        "        else:\n",
        "            move = random_bot(game)\n",
        "            print(f\"Bot plays: {move}\")\n",
        "            game.play_move(*move)\n",
        "\n",
        "    print(\"\\nFinal Result:\")\n",
        "    ultimate_board_to_board(game)\n",
        "    if game.global_winner:\n",
        "        print(\"Winner: Player\", \"X\" if game.global_winner == 1 else \"O\")\n",
        "    else:\n",
        "        print(\"Game ended in a draw.\")\n",
        "play_game()\n"
      ],
      "metadata": {
        "id": "1nUoQUgkW9lk",
        "outputId": "f97b2f5a-f4e3-4a4f-fa2c-345c05d6a567",
        "colab": {
          "base_uri": "https://localhost:8080/",
          "height": 1000
        }
      },
      "execution_count": 32,
      "outputs": [
        {
          "output_type": "stream",
          "name": "stdout",
          "text": [
            "\n",
            "Current Turn: Player X\n"
          ]
        },
        {
          "output_type": "display_data",
          "data": {
            "text/plain": [
              "<Figure size 600x600 with 1 Axes>"
            ],
            "image/png": "[encoded data removed]"
          },
          "metadata": {}
        },
        {
          "output_type": "stream",
          "name": "stdout",
          "text": [
            "You may play in any active board.\n",
            "Enter your move (big_r big_c small_r small_c): 1 1 1 1 \n",
            "\n",
            "Current Turn: Player O\n"
          ]
        },
        {
          "output_type": "display_data",
          "data": {
            "text/plain": [
              "<Figure size 600x600 with 1 Axes>"
            ],
            "image/png": "[encoded data removed]"
          },
          "metadata": {}
        },
        {
          "output_type": "stream",
          "name": "stdout",
          "text": [
            "You must play in small board: (1, 1)\n",
            "Bot plays: (1, 1, 0, 1)\n",
            "\n",
            "Current Turn: Player X\n"
          ]
        },
        {
          "output_type": "display_data",
          "data": {
            "text/plain": [
              "<Figure size 600x600 with 1 Axes>"
            ],
            "image/png": "[encoded data removed]"
          },
          "metadata": {}
        },
        {
          "output_type": "stream",
          "name": "stdout",
          "text": [
            "You must play in small board: (0, 1)\n"
          ]
        },
        {
          "output_type": "error",
          "ename": "KeyboardInterrupt",
          "evalue": "Interrupted by user",
          "traceback": [
            "\u001b[0;31m---------------------------------------------------------------------------\u001b[0m",
            "\u001b[0;31mKeyboardInterrupt\u001b[0m                         Traceback (most recent call last)",
            "\u001b[0;32m<ipython-input-32-94ccab143d8d>\u001b[0m in \u001b[0;36m<cell line: 0>\u001b[0;34m()\u001b[0m\n\u001b[1;32m     32\u001b[0m     \u001b[0;32melse\u001b[0m\u001b[0;34m:\u001b[0m\u001b[0;34m\u001b[0m\u001b[0;34m\u001b[0m\u001b[0m\n\u001b[1;32m     33\u001b[0m         \u001b[0mprint\u001b[0m\u001b[0;34m(\u001b[0m\u001b[0;34m\"Game ended in a draw.\"\u001b[0m\u001b[0;34m)\u001b[0m\u001b[0;34m\u001b[0m\u001b[0;34m\u001b[0m\u001b[0m\n\u001b[0;32m---> 34\u001b[0;31m \u001b[0mplay_game\u001b[0m\u001b[0;34m(\u001b[0m\u001b[0;34m)\u001b[0m\u001b[0;34m\u001b[0m\u001b[0;34m\u001b[0m\u001b[0m\n\u001b[0m",
            "\u001b[0;32m<ipython-input-32-94ccab143d8d>\u001b[0m in \u001b[0;36mplay_game\u001b[0;34m()\u001b[0m\n\u001b[1;32m     14\u001b[0m \u001b[0;34m\u001b[0m\u001b[0m\n\u001b[1;32m     15\u001b[0m         \u001b[0;32mif\u001b[0m \u001b[0mgame\u001b[0m\u001b[0;34m.\u001b[0m\u001b[0mcurrent_player\u001b[0m \u001b[0;34m==\u001b[0m \u001b[0;36m1\u001b[0m\u001b[0;34m:\u001b[0m\u001b[0;34m\u001b[0m\u001b[0;34m\u001b[0m\u001b[0m\n\u001b[0;32m---> 16\u001b[0;31m             \u001b[0mmove\u001b[0m \u001b[0;34m=\u001b[0m \u001b[0minput\u001b[0m\u001b[0;34m(\u001b[0m\u001b[0;34m\"Enter your move (big_r big_c small_r small_c): \"\u001b[0m\u001b[0;34m)\u001b[0m\u001b[0;34m.\u001b[0m\u001b[0msplit\u001b[0m\u001b[0;34m(\u001b[0m\u001b[0;34m)\u001b[0m\u001b[0;34m\u001b[0m\u001b[0;34m\u001b[0m\u001b[0m\n\u001b[0m\u001b[1;32m     17\u001b[0m             \u001b[0;32mtry\u001b[0m\u001b[0;34m:\u001b[0m\u001b[0;34m\u001b[0m\u001b[0;34m\u001b[0m\u001b[0m\n\u001b[1;32m     18\u001b[0m                 \u001b[0mmove\u001b[0m \u001b[0;34m=\u001b[0m \u001b[0mtuple\u001b[0m\u001b[0;34m(\u001b[0m\u001b[0mmap\u001b[0m\u001b[0;34m(\u001b[0m\u001b[0mint\u001b[0m\u001b[0;34m,\u001b[0m \u001b[0mmove\u001b[0m\u001b[0;34m)\u001b[0m\u001b[0;34m)\u001b[0m\u001b[0;34m\u001b[0m\u001b[0;34m\u001b[0m\u001b[0m\n",
            "\u001b[0;32m/usr/local/lib/python3.11/dist-packages/ipykernel/kernelbase.py\u001b[0m in \u001b[0;36mraw_input\u001b[0;34m(self, prompt)\u001b[0m\n\u001b[1;32m   1175\u001b[0m                 \u001b[0;34m\"raw_input was called, but this frontend does not support input requests.\"\u001b[0m\u001b[0;34m\u001b[0m\u001b[0;34m\u001b[0m\u001b[0m\n\u001b[1;32m   1176\u001b[0m             )\n\u001b[0;32m-> 1177\u001b[0;31m         return self._input_request(\n\u001b[0m\u001b[1;32m   1178\u001b[0m             \u001b[0mstr\u001b[0m\u001b[0;34m(\u001b[0m\u001b[0mprompt\u001b[0m\u001b[0;34m)\u001b[0m\u001b[0;34m,\u001b[0m\u001b[0;34m\u001b[0m\u001b[0;34m\u001b[0m\u001b[0m\n\u001b[1;32m   1179\u001b[0m             \u001b[0mself\u001b[0m\u001b[0;34m.\u001b[0m\u001b[0m_parent_ident\u001b[0m\u001b[0;34m[\u001b[0m\u001b[0;34m\"shell\"\u001b[0m\u001b[0;34m]\u001b[0m\u001b[0;34m,\u001b[0m\u001b[0;34m\u001b[0m\u001b[0;34m\u001b[0m\u001b[0m\n",
            "\u001b[0;32m/usr/local/lib/python3.11/dist-packages/ipykernel/kernelbase.py\u001b[0m in \u001b[0;36m_input_request\u001b[0;34m(self, prompt, ident, parent, password)\u001b[0m\n\u001b[1;32m   1217\u001b[0m             \u001b[0;32mexcept\u001b[0m \u001b[0mKeyboardInterrupt\u001b[0m\u001b[0;34m:\u001b[0m\u001b[0;34m\u001b[0m\u001b[0;34m\u001b[0m\u001b[0m\n\u001b[1;32m   1218\u001b[0m                 \u001b[0;31m# re-raise KeyboardInterrupt, to truncate traceback\u001b[0m\u001b[0;34m\u001b[0m\u001b[0;34m\u001b[0m\u001b[0m\n\u001b[0;32m-> 1219\u001b[0;31m                 \u001b[0;32mraise\u001b[0m \u001b[0mKeyboardInterrupt\u001b[0m\u001b[0;34m(\u001b[0m\u001b[0;34m\"Interrupted by user\"\u001b[0m\u001b[0;34m)\u001b[0m \u001b[0;32mfrom\u001b[0m \u001b[0;32mNone\u001b[0m\u001b[0;34m\u001b[0m\u001b[0;34m\u001b[0m\u001b[0m\n\u001b[0m\u001b[1;32m   1220\u001b[0m             \u001b[0;32mexcept\u001b[0m \u001b[0mException\u001b[0m\u001b[0;34m:\u001b[0m\u001b[0;34m\u001b[0m\u001b[0;34m\u001b[0m\u001b[0m\n\u001b[1;32m   1221\u001b[0m                 \u001b[0mself\u001b[0m\u001b[0;34m.\u001b[0m\u001b[0mlog\u001b[0m\u001b[0;34m.\u001b[0m\u001b[0mwarning\u001b[0m\u001b[0;34m(\u001b[0m\u001b[0;34m\"Invalid Message:\"\u001b[0m\u001b[0;34m,\u001b[0m \u001b[0mexc_info\u001b[0m\u001b[0;34m=\u001b[0m\u001b[0;32mTrue\u001b[0m\u001b[0;34m)\u001b[0m\u001b[0;34m\u001b[0m\u001b[0;34m\u001b[0m\u001b[0m\n",
            "\u001b[0;31mKeyboardInterrupt\u001b[0m: Interrupted by user"
          ]
        }
      ]
    },
    {
      "cell_type": "markdown",
      "source": [
        "#Part 2: Monte Carlo Tree Search\n",
        "\n",
        "The second part of this assignment is creating an agent that uses MCTS that"
      ],
      "metadata": {
        "id": "74AVR7-ube5p"
      }
    },
    {
      "cell_type": "code",
      "source": [],
      "metadata": {
        "id": "6hFDdZH-bd00"
      },
      "execution_count": null,
      "outputs": []
    }
  ]
}