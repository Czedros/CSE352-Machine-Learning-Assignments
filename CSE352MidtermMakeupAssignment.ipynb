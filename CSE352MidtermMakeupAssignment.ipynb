{
  "nbformat": 4,
  "nbformat_minor": 0,
  "metadata": {
    "colab": {
      "provenance": [],
      "authorship_tag": "ABX9TyNknMJBKBgfDn0Z4yzDmj+a",
      "include_colab_link": true
    },
    "kernelspec": {
      "name": "python3",
      "display_name": "Python 3"
    },
    "language_info": {
      "name": "python"
    }
  },
  "cells": [
    {
      "cell_type": "markdown",
      "metadata": {
        "id": "view-in-github",
        "colab_type": "text"
      },
      "source": [
        "<a href=\"https://colab.research.google.com/github/Czedros/CSE352-Machine-Learning-Assignments/blob/main/CSE352MidtermMakeupAssignment.ipynb\" target=\"_parent\"><img src=\"https://colab.research.google.com/assets/colab-badge.svg\" alt=\"Open In Colab\"/></a>"
      ]
    },
    {
      "cell_type": "markdown",
      "source": [
        "# Introduction\n",
        "\n",
        "Name: [Enter Here]\n",
        "\n",
        "I understand that my submission needs to be my own work: [Initials]\n",
        "\n",
        "I understand that ChatGPT / Copilot / other AI tools are not allowed:  [Initials]\n",
        "\n",
        "Total Points: **75**\n",
        "\n",
        "Complete this notebook and submit it (save/print as pdf). Make sure all output is correct in the pdf before submitting (it sometimes gets cut off).\n",
        "\n",
        " The notebook needs to be a complete project report with your implementation, documentation including a short discussion of how your implementation works and your design choices, and experimental results (e.g., tables and charts with simulation results) with a short discussion of what they mean. Use the provided notebook cells and insert additional code and markdown cells as needed."
      ],
      "metadata": {
        "id": "or-AfmlaFBvr"
      }
    },
    {
      "cell_type": "markdown",
      "source": [
        "## Overview\n",
        "\n",
        "In this assignment, you will:\n",
        "- Implement the rules and structure for Ultimate Tic-Tac-Toe\n",
        "- Design a basic Monte Carlo Tree Search (MCTS) agent\n",
        "- Use MCTS to play against a human in the command line"
      ],
      "metadata": {
        "id": "jlbGPJMxmWXv"
      }
    },
    {
      "cell_type": "markdown",
      "source": [
        "#Setup\n",
        "\n",
        "To start this assignemnt, We first install a few neccesary Packages."
      ],
      "metadata": {
        "id": "Vqa7p5EtFPfq"
      }
    },
    {
      "cell_type": "code",
      "execution_count": null,
      "metadata": {
        "id": "8alld-up7_li"
      },
      "outputs": [],
      "source": [
        "!pip install numpy"
      ]
    },
    {
      "cell_type": "markdown",
      "source": [
        "#Ultimate Tic-Tac-Toe\n",
        "\n",
        "Ultimate Tic-Tac-Toe is a strategic extension of the classic Tic-Tac-Toe game. Rather than a single 3×3 grid, Ultimate Tic-Tac-Toe consists of a 3×3 grid where each cell contains another 3×3 Tic-Tac-Toe board. This layered setup creates a more complex game structure requiring players to think multiple moves ahead.\n",
        "\n",
        "The game was first popularized online in the early 2010s and is designed to emphasize positional play, long-term strategy, and adaptation to an evolving board state. Each player, X or O, takes turns placing their mark in a cell of one of the smaller boards. However, the twist lies in the move constraints: a player’s move determines which of the nine small boards their opponent must play in next. Specifically, if a player places their mark in cell (i, j) of a small board, their opponent must play in the (i, j) small board on their next turn.\n",
        "\n",
        "The objective is to win the larger game by winning three small boards in a row—horizontally, vertically, or diagonally—similar to classic Tic-Tac-Toe. A small board is won when a player has three marks in a row within it. If a player is sent to a board that is already won or drawn, they may play in any open board of their choosing.\n",
        "\n",
        "Ultimate Tic-Tac-Toe presents a more intricate challenge than its predecessor and is a rich environment for studying game trees, simulation-based planning, and reinforcement learning. For more information about the game and strategic insights, refer to its Wikipedia page.\n",
        "\n",
        "This problem has two parts. In the first part, you will implement the mechanics of Ultimate Tic-Tac-Toe, defining how the game progresses and determining legal moves and win conditions. In the second part, you will implement a Monte Carlo Tree Search (MCTS) agent that plays the game by simulating thousands of random games and backpropagating the results to guide its next action."
      ],
      "metadata": {
        "id": "dYcSRE2jmWMa"
      }
    },
    {
      "cell_type": "code",
      "source": [],
      "metadata": {
        "id": "1jK3QFHrFBbH"
      },
      "execution_count": null,
      "outputs": []
    }
  ]
}