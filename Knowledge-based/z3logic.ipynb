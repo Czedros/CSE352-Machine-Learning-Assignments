{
  "cells": [
    {
      "cell_type": "markdown",
      "metadata": {
        "id": "view-in-github",
        "colab_type": "text"
      },
      "source": [
        "<a href=\"https://colab.research.google.com/github/Czedros/CSE352-Machine-Learning-Assignments/blob/main/Knowledge-based/z3logic.ipynb\" target=\"_parent\"><img src=\"https://colab.research.google.com/assets/colab-badge.svg\" alt=\"Open In Colab\"/></a>"
      ]
    },
    {
      "cell_type": "markdown",
      "metadata": {
        "id": "-rnkCP9R2o_Z"
      },
      "source": [
        "# Introduction\n",
        "\n",
        "Name: Kay Zhang\n",
        "\n",
        "I understand that my submission needs to be my own work: [add initials]\n",
        "\n",
        "I understand that ChatGPT / Copilot / other AI tools are not allowed: [add initials]\n",
        "\n",
        "Total Points: **75**\n",
        "\n",
        "Complete this notebook and submit it (save/print as pdf). Make sure all output is correct in the pdf before submitting (it sometimes gets cut off). The notebook needs to be a complete project report with your implementation, documentation including a short discussion of how your implementation works and your design choices, and experimental results (e.g., tables and charts with simulation results) with a short discussion of what they mean. Use the provided notebook cells and insert additional code and markdown cells as needed."
      ]
    },
    {
      "cell_type": "markdown",
      "metadata": {
        "id": "wdtvm8lB2o_b"
      },
      "source": [
        "## Z3 and Z3py resources\n",
        "\n",
        "For this problem you will be solving constraint satisfaction and logic problems using the Z3 SMT solver via the z3py python library.\n",
        "\n",
        "The demo code using z3py we went over in class is here: [link](https://drive.google.com/drive/folders/16HQXiwdcaman1IpC7H6vSJ71QQQ-aL2z?usp=sharing)\n",
        "\n",
        "Online help for z3py is here: [link](https://ericpony.github.io/z3py-tutorial/guide-examples.htm)"
      ]
    },
    {
      "cell_type": "markdown",
      "metadata": {
        "id": "F6mYrFaM2o_b"
      },
      "source": [
        "## Installation\n",
        "\n",
        "We first install to get the z3solver library using pip and test that works."
      ]
    },
    {
      "cell_type": "code",
      "source": [
        "!pip install z3-solver"
      ],
      "metadata": {
        "id": "EoLs1AWw38Tj",
        "outputId": "0d7c73d7-1bc1-4c18-bbfa-8033699e158e",
        "colab": {
          "base_uri": "https://localhost:8080/"
        }
      },
      "execution_count": 1,
      "outputs": [
        {
          "output_type": "stream",
          "name": "stdout",
          "text": [
            "Collecting z3-solver\n",
            "  Downloading z3_solver-4.14.1.0-py3-none-manylinux_2_17_x86_64.manylinux2014_x86_64.whl.metadata (602 bytes)\n",
            "Downloading z3_solver-4.14.1.0-py3-none-manylinux_2_17_x86_64.manylinux2014_x86_64.whl (29.5 MB)\n",
            "\u001b[2K   \u001b[90m━━━━━━━━━━━━━━━━━━━━━━━━━━━━━━━━━━━━━━━━\u001b[0m \u001b[32m29.5/29.5 MB\u001b[0m \u001b[31m58.1 MB/s\u001b[0m eta \u001b[36m0:00:00\u001b[0m\n",
            "\u001b[?25hInstalling collected packages: z3-solver\n",
            "Successfully installed z3-solver-4.14.1.0\n"
          ]
        }
      ]
    },
    {
      "cell_type": "code",
      "execution_count": 2,
      "metadata": {
        "id": "xnQTztNX2o_c",
        "outputId": "fb12da8d-1524-49cc-aefa-fddf495896c7",
        "colab": {
          "base_uri": "https://localhost:8080/"
        }
      },
      "outputs": [
        {
          "output_type": "stream",
          "name": "stdout",
          "text": [
            "[y = 0, x = 7]\n"
          ]
        }
      ],
      "source": [
        "# Run the first example from the z3py guide as a test: https://ericpony.github.io/z3py-tutorial/guide-examples.htm\n",
        "from z3 import *\n",
        "\n",
        "x = Int('x')\n",
        "y = Int('y')\n",
        "solve(x > 2, y < 10, x + 2*y == 7)"
      ]
    },
    {
      "cell_type": "markdown",
      "source": [
        "# Sudoku as a constraint satisfaction problem (CSP)\n",
        "\n",
        "Sudoku is a popular number-placement puzzle that originated in France in the end of the 19th century.  Modern Sudoku was likely invented by Howard Garns from Connersville, Indiana and was first published in 1979 under the name *Number Place*. The objective of the puzzle is to place numbers 1-9 on a 9$\\times$9 grid, such that each number occurs only once in every row, every column, and every of the nine 3$\\times$3 sub-grids that compose the main grid.\n",
        "Sudoku puzzles are grids that have been partially occupied with numbers. The task is then to occupy the remaining fields in such a way that the constraints on rows, columns, and sub-grids are satisfied.\n",
        "For more information about Sudoku refer to its Wikipedia page at http://en.wikipedia.org/wiki/Sudoku.\n",
        "\n",
        "This problem has two parts. In the first part, you will write the boolean constraints in mathematical notation for solving a Sudoku puzzle. In the second part, you will write code and invoke the Z3 solver to solve the Sudoku instance and answer various questions about the solution.\n",
        "\n",
        "## Part 1 (Constraints)\n",
        "In text, define and write constraints over **boolean** variables corresponding to each number being in each cell. For example, you may use $X_{i,j}^k$ as teh variable that is true if and only if the number $k$ is in row $i$ and column $j$ (the variable is true if $k$ is in cell $(i, j)$ and false otherwise). Now write the following boolean constaints over these variables:\n",
        "\n",
        "* Write the boolean formula for the constraints that the number 5 can occur at most once in the first row. **(3 point)**\n",
        "* Write the boolean formula for the constraints that the number 6 can occur at most once in the first column. **(3 point)**\n",
        "* Write the boolean formula for the constraints that the number 9 can occur at most once in the top left 3$\\times$3 sub-grid. **(4 point)**"
      ],
      "metadata": {
        "id": "9J3lpQvP52jm"
      }
    },
    {
      "cell_type": "markdown",
      "source": [
        "Solution:\n",
        "\n",
        "Let $X_{i,j}^k$ be a boolean variable such that\n",
        "\n",
        "$X_{i,j}^k$ = true if cell(i,j) contains number k\n",
        "\n",
        "and\n",
        "\n",
        "$X_{i,j}^k$ = false otherwise\n",
        "\n",
        "1.\n",
        "$\\bigwedge_{1 \\leq j < l \\leq 9} \\neg (X_{1,j}^5 \\land X_{1,l}^5)$\n",
        "\n",
        "2.\n",
        "$\\bigwedge_{1 \\leq i < m \\leq 9} \\neg (X_{i,1}^6 \\land X_{m,1}^6)$\n",
        "\n",
        "3.$\\bigwedge_{(i_1, j_1) < (i_2, j_2)} \\neg \\left( X_{i_1, j_1}^9 \\land X_{i_2, j_2}^9 \\right)$\n"
      ],
      "metadata": {
        "id": "ju3Q1ewW7aeu"
      }
    },
    {
      "cell_type": "markdown",
      "source": [
        "## Part 2 (Coding)\n",
        "\n",
        "Encode the above constraints and all the other ones as a CSP using z3py and solve the Sudoku instance given in the figure below. **Use only boolean variables** and do not use the **Distinct** function.\n",
        "\n",
        "* Provide the code to solve that solves the given problem instance using z3py and only boolean variables. The code should output a reasonable visualization of the solution, for example printed in text. **(10 points)**\n",
        "\n",
        "<img src=\"https://raw.githubusercontent.com/stanleybak/CS7320-AI/master/Knowledge-based/sudoku1.jpg\" width=\"400\"/>\n",
        "\n"
      ],
      "metadata": {
        "id": "y7kArKLH7eOR"
      }
    },
    {
      "cell_type": "code",
      "source": [
        "# z3py code to solve above Sudoku goes here. Do not use Int(*), only Bool(*)\n",
        "from z3 import *\n",
        "\n",
        "solver = Solver()\n",
        "\n",
        "X = [[[Bool(f\"X_{i}_{j}_{k}\") for k in range(9)] for j in range(9)] for i in range(9)]\n",
        "\n",
        "\n",
        "# 1. Each cell contains exactly one number\n",
        "for i in range(9):\n",
        "    for j in range(9):\n",
        "        solver.add(Or(X[i][j]))\n",
        "        for k1 in range(9):\n",
        "            for k2 in range(k1 + 1, 9):\n",
        "                solver.add(Or(Not(X[i][j][k1]), Not(X[i][j][k2])))\n",
        "\n",
        "# 2. Each number appears at most once in each row\n",
        "for i in range(9):\n",
        "    for k in range(9):\n",
        "        for j1 in range(9):\n",
        "            for j2 in range(j1 + 1, 9):\n",
        "                solver.add(Or(Not(X[i][j1][k]), Not(X[i][j2][k])))\n",
        "\n",
        "# 3. Each number appears at most once in each column\n",
        "for j in range(9):\n",
        "    for k in range(9):\n",
        "        for i1 in range(9):\n",
        "            for i2 in range(i1 + 1, 9):\n",
        "                solver.add(Or(Not(X[i1][j][k]), Not(X[i2][j][k])))\n",
        "\n",
        "# 4. Each number appears at most once in each 3x3 block\n",
        "for bi in range(3):\n",
        "    for bj in range(3):\n",
        "        for k in range(9):\n",
        "            block_cells = [(bi*3 + di, bj*3 + dj) for di in range(3) for dj in range(3)]\n",
        "            for idx1 in range(9):\n",
        "                for idx2 in range(idx1 + 1, 9):\n",
        "                    i1, j1 = block_cells[idx1]\n",
        "                    i2, j2 = block_cells[idx2]\n",
        "                    solver.add(Or(Not(X[i1][j1][k]), Not(X[i2][j2][k])))\n",
        "\n",
        "# 5. Add known values from the puzzle (from image)\n",
        "# Given values (1-based) from the image\n",
        "puzzle = [\n",
        "    [0, 1, 0, 4, 0, 2, 0, 5, 0],\n",
        "    [5, 0, 0, 0, 0, 0, 0, 0, 6],\n",
        "    [0, 0, 0, 3, 0, 1, 0, 0, 0],\n",
        "    [7, 0, 5, 0, 0, 0, 4, 0, 8],\n",
        "    [0, 0, 0, 0, 0, 0, 0, 0, 0],\n",
        "    [2, 0, 8, 0, 0, 0, 5, 0, 9],\n",
        "    [0, 0, 0, 9, 0, 6, 0, 0, 0],\n",
        "    [6, 0, 0, 0, 0, 0, 0, 0, 2],\n",
        "    [0, 7, 0, 1, 0, 3, 0, 4, 0],\n",
        "]\n",
        "\n",
        "for i in range(9):\n",
        "    for j in range(9):\n",
        "        if puzzle[i][j] != 0:\n",
        "            k = puzzle[i][j] - 1\n",
        "            solver.add(X[i][j][k])\n",
        "\n",
        "def print_grid(model, X):\n",
        "    for i in range(9):\n",
        "        if i % 3 == 0 and i != 0:\n",
        "            print(\"-\" * 21)\n",
        "        row = \"\"\n",
        "        for j in range(9):\n",
        "            if j % 3 == 0 and j != 0:\n",
        "                row += \"| \"\n",
        "            for k in range(9):\n",
        "                if is_true(model.evaluate(X[i][j][k])):\n",
        "                    row += str(k + 1) + \" \"\n",
        "        print(row.strip())\n",
        "\n",
        "if solver.check() == sat:\n",
        "    model = solver.model()\n",
        "    print_grid(model, X)\n",
        "else:\n",
        "    print(\"No solution found.\")\n",
        "\n"
      ],
      "metadata": {
        "id": "UghnVSTS-kJi",
        "colab": {
          "base_uri": "https://localhost:8080/"
        },
        "outputId": "6872d541-5664-4611-c39d-6aee58abd74a"
      },
      "execution_count": 1,
      "outputs": [
        {
          "output_type": "stream",
          "name": "stdout",
          "text": [
            "3 1 9 | 4 6 2 | 8 5 7\n",
            "5 2 4 | 7 9 8 | 1 3 6\n",
            "8 6 7 | 3 5 1 | 9 2 4\n",
            "---------------------\n",
            "7 3 5 | 2 1 9 | 4 6 8\n",
            "1 9 6 | 8 4 5 | 2 7 3\n",
            "2 4 8 | 6 3 7 | 5 1 9\n",
            "---------------------\n",
            "4 5 3 | 9 2 6 | 7 8 1\n",
            "6 8 1 | 5 7 4 | 3 9 2\n",
            "9 7 2 | 1 8 3 | 6 4 5\n"
          ]
        }
      ]
    },
    {
      "cell_type": "markdown",
      "source": [
        "### Uniqueness\n",
        "Is your solution unique? Prove it with a Z3py solver or provide a second solution. **(5 points)**"
      ],
      "metadata": {
        "id": "FIkg9eI38VMG"
      }
    },
    {
      "cell_type": "code",
      "source": [
        "# Save first model\n",
        "if solver.check() == sat:\n",
        "    model1 = solver.model()\n",
        "\n",
        "    # Store current solution in a list\n",
        "    solution = [[-1 for _ in range(9)] for _ in range(9)]\n",
        "    for i in range(9):\n",
        "        for j in range(9):\n",
        "            for k in range(9):\n",
        "                if is_true(model1.evaluate(X[i][j][k])):\n",
        "                    solution[i][j] = k  # Store index (i.e., value - 1)\n",
        "\n",
        "    # Create a new constraint: there exists at least one cell different\n",
        "    diff_constraint = []\n",
        "    for i in range(9):\n",
        "        for j in range(9):\n",
        "            current_k = solution[i][j]\n",
        "            # At least one cell must differ\n",
        "            diff_constraint.append(Not(X[i][j][current_k]))\n",
        "\n",
        "    # Push solver state and add the negation of current solution\n",
        "    solver.push()\n",
        "    solver.add(Or(diff_constraint))  # At least one cell differs\n",
        "    result = solver.check()\n",
        "\n",
        "    if result == unsat:\n",
        "        print(\"✅ The solution is UNIQUE.\")\n",
        "    else:\n",
        "        print(\"❗ There is ANOTHER solution.\")\n",
        "        model2 = solver.model()\n",
        "        print_grid(model2, X)\n",
        "\n",
        "    solver.pop()\n",
        "else:\n",
        "    print(\"No solution found.\")"
      ],
      "metadata": {
        "id": "-ZacX6gz-4os",
        "colab": {
          "base_uri": "https://localhost:8080/"
        },
        "outputId": "030815aa-cd71-4819-cea2-83e42885b4da"
      },
      "execution_count": 2,
      "outputs": [
        {
          "output_type": "stream",
          "name": "stdout",
          "text": [
            "✅ The solution is UNIQUE.\n"
          ]
        }
      ]
    },
    {
      "cell_type": "markdown",
      "source": [
        "### More Uniqueness\n",
        "If you delete the 1 in the top left box of the Sudoku problem above, how many unique solutions are there? Hint: should be fewer than 5000. **(5 points)**"
      ],
      "metadata": {
        "id": "Z6a18s5x-5Hw"
      }
    },
    {
      "cell_type": "code",
      "source": [
        "from z3 import *\n",
        "\n",
        "def count_all_solutions(puzzle):\n",
        "    solver = Solver()\n",
        "    X = [[[Bool(f\"X_{i}_{j}_{k}\") for k in range(9)] for j in range(9)] for i in range(9)]\n",
        "\n",
        "    # 1. Basic Sudoku constraints (same as before)\n",
        "    for i in range(9):\n",
        "        for j in range(9):\n",
        "            solver.add(Or(X[i][j]))\n",
        "            for k1 in range(9):\n",
        "                for k2 in range(k1 + 1, 9):\n",
        "                    solver.add(Or(Not(X[i][j][k1]), Not(X[i][j][k2])))\n",
        "\n",
        "    for i in range(9):\n",
        "        for k in range(9):\n",
        "            for j1 in range(9):\n",
        "                for j2 in range(j1 + 1, 9):\n",
        "                    solver.add(Or(Not(X[i][j1][k]), Not(X[i][j2][k])))\n",
        "\n",
        "    for j in range(9):\n",
        "        for k in range(9):\n",
        "            for i1 in range(9):\n",
        "                for i2 in range(i1 + 1, 9):\n",
        "                    solver.add(Or(Not(X[i1][j][k]), Not(X[i2][j][k])))\n",
        "\n",
        "    for bi in range(3):\n",
        "        for bj in range(3):\n",
        "            for k in range(9):\n",
        "                cells = [(bi*3 + di, bj*3 + dj) for di in range(3) for dj in range(3)]\n",
        "                for a in range(len(cells)):\n",
        "                    for b in range(a+1, len(cells)):\n",
        "                        i1, j1 = cells[a]\n",
        "                        i2, j2 = cells[b]\n",
        "                        solver.add(Or(Not(X[i1][j1][k]), Not(X[i2][j2][k])))\n",
        "\n",
        "    for i in range(9):\n",
        "        for j in range(9):\n",
        "            if puzzle[i][j] != 0:\n",
        "                k = puzzle[i][j] - 1\n",
        "                solver.add(X[i][j][k])\n",
        "\n",
        "    # 3. Enumerate all solutions\n",
        "    count = 0\n",
        "    seen = []\n",
        "    while solver.check() == sat:\n",
        "        model = solver.model()\n",
        "        count += 1\n",
        "        # Extract current solution\n",
        "        current = []\n",
        "        for i in range(9):\n",
        "            for j in range(9):\n",
        "                for k in range(9):\n",
        "                    if is_true(model.evaluate(X[i][j][k])):\n",
        "                        current.append(X[i][j][k])\n",
        "                        break\n",
        "\n",
        "        # Block this solution in the future\n",
        "        solver.add(Not(And(current)))\n",
        "\n",
        "    print(f\" Total solutions count: {count}\")\n",
        "    return count\n",
        "\n",
        "puzzle = [\n",
        "    [0, 0, 0, 4, 0, 2, 0, 5, 0],\n",
        "    [5, 0, 0, 0, 0, 0, 0, 0, 6],\n",
        "    [0, 0, 0, 3, 0, 1, 0, 0, 0],\n",
        "    [7, 0, 5, 0, 0, 0, 4, 0, 8],\n",
        "    [0, 0, 0, 0, 0, 0, 0, 0, 0],\n",
        "    [2, 0, 8, 0, 0, 0, 5, 0, 9],\n",
        "    [0, 0, 0, 9, 0, 6, 0, 0, 0],\n",
        "    [6, 0, 0, 0, 0, 0, 0, 0, 2],\n",
        "    [0, 7, 0, 1, 0, 3, 0, 4, 0],\n",
        "]\n",
        "count_all_solutions(puzzle)"
      ],
      "metadata": {
        "id": "5_2fNgND_CB4",
        "colab": {
          "base_uri": "https://localhost:8080/"
        },
        "outputId": "bb3dc5e1-5f51-47aa-98cd-ad0eb47172b7"
      },
      "execution_count": 5,
      "outputs": [
        {
          "output_type": "stream",
          "name": "stdout",
          "text": [
            " Total solutions count: 200\n"
          ]
        },
        {
          "output_type": "execute_result",
          "data": {
            "text/plain": [
              "200"
            ]
          },
          "metadata": {},
          "execution_count": 5
        }
      ]
    },
    {
      "cell_type": "markdown",
      "source": [
        "# Miracle Sudoku\n",
        "\n",
        "Using z3py and only boolean variables, solve the Miracle Sudoku ([spoiler](https://www.youtube.com/watch?v=yKf9aUIxdb4)).\n",
        "In this puzzle normal Sudoku rules apply in addition to the following rules:\n",
        "* Any two cells separated by a knight's move from chess (moving forward two boxes and over one, in any direction) cannot contain the same digit (see image below).\n",
        "* Any two cells separated by a king's move from chess (one box in any direction including diagonals) cannot contain the same digit.\n",
        "* Any two orthogonally adjacent (up, down, left, or right) cells cannot contain consecutive digits."
      ],
      "metadata": {
        "id": "6nF9g7Ca_SJ1"
      }
    },
    {
      "cell_type": "markdown",
      "source": [
        "### Knight's move constraint image\n",
        "<img src=\"https://raw.githubusercontent.com/stanleybak/CS7320-AI/master/Knowledge-based/knights.jpg\" width=\"400\"/>\n",
        "\n",
        "The knight's move constraint would mean the yellow boxes cannot contain a 1.\n"
      ],
      "metadata": {
        "id": "wwjCVYCiAKXq"
      }
    },
    {
      "cell_type": "markdown",
      "source": [
        "## Miracle Sudoku Starting Information\n",
        "Provide the code to solve the puzzle given below. The code should output a reasonable visualization of the solution, for example using text. **(10 points)**\n",
        "\n",
        "<img src=\"https://raw.githubusercontent.com/stanleybak/CS7320-AI/master/Knowledge-based/miracle.jpg\" width=\"400\"/>"
      ],
      "metadata": {
        "id": "S9P6BThtAMv3"
      }
    },
    {
      "cell_type": "code",
      "source": [
        "from z3 import *\n",
        "\n",
        "def solve_miracle_sudoku(puzzle):\n",
        "    solver = Solver()\n",
        "    X = [[[Bool(f\"X_{i}_{j}_{k}\") for k in range(9)] for j in range(9)] for i in range(9)]\n",
        "\n",
        "    # Helper\n",
        "    def in_bounds(i, j):\n",
        "        return 0 <= i < 9 and 0 <= j < 9\n",
        "\n",
        "    knight_moves = [(-2, -1), (-1, -2), (-2, 1), (-1, 2), (1, -2), (2, -1), (2, 1), (1, 2)]\n",
        "    king_moves   = [(-1, -1), (-1, 0), (-1, 1),\n",
        "                    ( 0, -1),          ( 0, 1),\n",
        "                    ( 1, -1), ( 1, 0), ( 1, 1)]\n",
        "    orthogonal   = [(-1, 0), (1, 0), (0, -1), (0, 1)]\n",
        "\n",
        "    # === Sudoku rules ===\n",
        "    for i in range(9):\n",
        "        for j in range(9):\n",
        "            solver.add(Or(X[i][j]))  # At least one value\n",
        "            for k1 in range(9):\n",
        "                for k2 in range(k1 + 1, 9):\n",
        "                    solver.add(Or(Not(X[i][j][k1]), Not(X[i][j][k2])))  # At most one\n",
        "\n",
        "    for k in range(9):\n",
        "        for i in range(9):\n",
        "            for j1 in range(9):\n",
        "                for j2 in range(j1 + 1, 9):\n",
        "                    solver.add(Or(Not(X[i][j1][k]), Not(X[i][j2][k])))  # Row uniqueness\n",
        "        for j in range(9):\n",
        "            for i1 in range(9):\n",
        "                for i2 in range(i1 + 1, 9):\n",
        "                    solver.add(Or(Not(X[i1][j][k]), Not(X[i2][j][k])))  # Col uniqueness\n",
        "\n",
        "    for bi in range(3):\n",
        "        for bj in range(3):\n",
        "            for k in range(9):\n",
        "                block = [(bi*3 + di, bj*3 + dj) for di in range(3) for dj in range(3)]\n",
        "                for a in range(9):\n",
        "                    for b in range(a+1, 9):\n",
        "                        i1, j1 = block[a]\n",
        "                        i2, j2 = block[b]\n",
        "                        solver.add(Or(Not(X[i1][j1][k]), Not(X[i2][j2][k])))  # Block\n",
        "\n",
        "    # === Miracle Sudoku Rules ===\n",
        "    for i in range(9):\n",
        "        for j in range(9):\n",
        "            for dx, dy in knight_moves:\n",
        "                ni, nj = i + dx, j + dy\n",
        "                if in_bounds(ni, nj):\n",
        "                    for k in range(9):\n",
        "                        solver.add(Or(Not(X[i][j][k]), Not(X[ni][nj][k])))  # Knight\n",
        "\n",
        "            for dx, dy in king_moves:\n",
        "                ni, nj = i + dx, j + dy\n",
        "                if in_bounds(ni, nj):\n",
        "                    for k in range(9):\n",
        "                        solver.add(Or(Not(X[i][j][k]), Not(X[ni][nj][k])))  # King\n",
        "\n",
        "            for dx, dy in orthogonal:\n",
        "                ni, nj = i + dx, j + dy\n",
        "                if in_bounds(ni, nj):\n",
        "                    for k in range(9):\n",
        "                        if k > 0:\n",
        "                            solver.add(Or(Not(X[i][j][k]), Not(X[ni][nj][k - 1])))\n",
        "                        if k < 8:\n",
        "                            solver.add(Or(Not(X[i][j][k]), Not(X[ni][nj][k + 1])))\n",
        "\n",
        "    # === Input puzzle clues ===\n",
        "    for i in range(9):\n",
        "        for j in range(9):\n",
        "            if puzzle[i][j] != 0:\n",
        "                k = puzzle[i][j] - 1\n",
        "                solver.add(X[i][j][k])\n",
        "\n",
        "    # === Solve and print ===\n",
        "    if solver.check() == sat:\n",
        "        m = solver.model()\n",
        "        for i in range(9):\n",
        "            row = \"\"\n",
        "            for j in range(9):\n",
        "                for k in range(9):\n",
        "                    if is_true(m.evaluate(X[i][j][k])):\n",
        "                        row += str(k + 1) + \" \"\n",
        "                        break\n",
        "            print(row.strip())\n",
        "    else:\n",
        "        print(\"❌ No solution found.\")\n",
        "\n",
        "# \"1\" at (4,2), \"2\" at (4,6) — all other cells are empty\n",
        "puzzle = [[0 for _ in range(9)] for _ in range(9)]\n",
        "puzzle[4][2] = 1\n",
        "puzzle[5][6] = 2\n",
        "\n",
        "solve_miracle_sudoku(puzzle)\n"
      ],
      "metadata": {
        "id": "E56fFoT7CqpY",
        "colab": {
          "base_uri": "https://localhost:8080/"
        },
        "outputId": "0f2741d4-7016-4109-90b6-16f4f6d54870"
      },
      "execution_count": 6,
      "outputs": [
        {
          "output_type": "stream",
          "name": "stdout",
          "text": [
            "4 8 3 7 2 6 1 5 9\n",
            "7 2 6 1 5 9 4 8 3\n",
            "1 5 9 4 8 3 7 2 6\n",
            "8 3 7 2 6 1 5 9 4\n",
            "2 6 1 5 9 4 8 3 7\n",
            "5 9 4 8 3 7 2 6 1\n",
            "3 7 2 6 1 5 9 4 8\n",
            "6 1 5 9 4 8 3 7 2\n",
            "9 4 8 3 7 2 6 1 5\n"
          ]
        }
      ]
    },
    {
      "cell_type": "markdown",
      "source": [
        "---\n",
        "# Number Challenge in Z3py\n",
        "\n",
        "Write Z3py code to solve the Number Challenge puzzle shown below and print the solution found. You can use the `Int` type to create integer variables in z3py. **(20 points)**\n",
        "\n",
        "<img src=\"https://raw.githubusercontent.com/stanleybak/CS7320-AI/master/Knowledge-based/chal.jpg\" width=\"300\"/>"
      ],
      "metadata": {
        "id": "Pjlb4qe5XAGF"
      }
    },
    {
      "cell_type": "code",
      "source": [
        "# Write your solution code for Number Challenge using z3py\n",
        "from z3 import *\n",
        "\n",
        "cells = [Int(f\"c{i}\") for i in range(8)]\n",
        "\n",
        "s = Solver()\n",
        "\n",
        "# Each cell must contain 1 to 8, and all must be unique\n",
        "for c in cells:\n",
        "    s.add(c >= 1, c <= 8)\n",
        "s.add(Distinct(cells))\n",
        "\n",
        "# Map cell index to (row, col)\n",
        "positions = {\n",
        "    0: (0, 1),\n",
        "    1: (0, 2),\n",
        "    2: (1, 0),\n",
        "    3: (1, 1),\n",
        "    4: (1, 2),\n",
        "    5: (1, 3),\n",
        "    6: (2, 1),\n",
        "    7: (2, 2)\n",
        "}\n",
        "\n",
        "# Generate adjacency constraints\n",
        "for i in range(8):\n",
        "    for j in range(i + 1, 8):\n",
        "        r1, c1 = positions[i]\n",
        "        r2, c2 = positions[j]\n",
        "        if abs(r1 - r2) <= 1 and abs(c1 - c2) <= 1:\n",
        "            # If they touch (orthogonally or diagonally), forbid consecutive values\n",
        "            s.add(Abs(cells[i] - cells[j]) != 1)\n",
        "\n",
        "# Solve and print\n",
        "if s.check() == sat:\n",
        "    m = s.model()\n",
        "    result = [m.evaluate(c).as_long() for c in cells]\n",
        "\n",
        "    grid = [[' ' for _ in range(4)] for _ in range(3)]\n",
        "    for idx, (r, c) in positions.items():\n",
        "        grid[r][c] = str(result[idx])\n",
        "\n",
        "    print(\"\\nFormatted Grid:\")\n",
        "    for row in grid:\n",
        "        print(' '.join(row))\n",
        "\n",
        "else:\n",
        "    print(\"No solution found.\")\n"
      ],
      "metadata": {
        "id": "zsQCwxTbY5Sg",
        "outputId": "bffff6e2-dd42-4e13-f161-c983b863e948",
        "colab": {
          "base_uri": "https://localhost:8080/"
        }
      },
      "execution_count": 13,
      "outputs": [
        {
          "output_type": "stream",
          "name": "stdout",
          "text": [
            "\n",
            "Formatted Grid:\n",
            "  4 6  \n",
            "7 1 8 2\n",
            "  3 5  \n"
          ]
        }
      ]
    },
    {
      "cell_type": "markdown",
      "source": [
        "\n",
        "\n",
        "\n",
        "---\n",
        "\n",
        "\n",
        "# Propositional Logic\n",
        "\n",
        "Next, we will use truth tables and z3py to prove logical entailment.\n",
        "\n",
        "## Truth Tables\n",
        "\n",
        "Using markdown tables and bold to show relevant rows, use the truth table method to show logical truths.\n",
        "\n",
        "\n",
        "### Example\n",
        "\n",
        "Here's an example that shows $p, p \\rightarrow q \\models q$.  \n",
        "\n",
        "| p | q | p -> q |\n",
        "|-------|-------|---------------------|\n",
        "| **T**     | **T**     | **T**                   |\n",
        "| T     | F     | F                   |\n",
        "| F     | T     | T                   |\n",
        "| F     | F     | T                   |\n",
        "\n",
        "Since $q$ is true whenever $p$ and $p \\rightarrow q$ are true, the expression is true.\n",
        "\n",
        "### Questions\n",
        "\n",
        "Prove that the following semantic entailment expressions are true by using the truth table approach.  Bold the appropriate rows **(7 point)**\n",
        "\n",
        " * $(p\\rightarrow q)\\rightarrow r, s \\rightarrow \\neg p, t, \\neg s, t \\rightarrow q \\models r$\n",
        " * $\\emptyset \\models q \\rightarrow (p \\rightarrow (p \\rightarrow (q \\rightarrow p)))$"
      ],
      "metadata": {
        "id": "sy985abkCrfR"
      }
    },
    {
      "cell_type": "markdown",
      "source": [
        "$(p\\rightarrow q)\\rightarrow r, s \\rightarrow \\neg p, t, \\neg s, t \\rightarrow q \\models r$\n",
        "\n",
        "| p | q | r | s | t | p → q | (p → q) → r | s → ¬p | ¬s | t → q | All Premises True? | r |\n",
        "|---|---|---|---|---|--------|----------------|----------|-----|--------|--------------------|---|\n",
        "| F | F | T | F | T |   T    |       T        |    T     |  T  |   T    | yes             | **T** |\n",
        "| F | T | T | F | T |   T    |       T        |    T     |  T  |   T    | yes             | **T** |\n",
        "| T | T | T | F | T |   T    |       T        |    T     |  T  |   T    | yes             | **T** |\n",
        "\n",
        "\n",
        "| p | q | q → (p → (p → (q → p))) |\n",
        "|---|---|--------------------------|\n",
        "| T | T | **T**                   |\n",
        "| T | F | **T**                   |\n",
        "| F | T | **T**                   |\n",
        "| F | F | **T**                   |\n",
        "\n"
      ],
      "metadata": {
        "id": "wyZsntivFueN"
      }
    },
    {
      "cell_type": "markdown",
      "source": [
        "\n",
        "\n",
        "---\n",
        "\n",
        "\n",
        " ## Logical Entailment using z3py\n",
        "\n",
        " Use Z3py to prove the above two entailments are true using satisfiability. See section 7.5 in the book for details. **(8 points)**\n"
      ],
      "metadata": {
        "id": "q7le6n2jFu4l"
      }
    },
    {
      "cell_type": "code",
      "source": [
        "# answer code here\n",
        "\n",
        "from z3 import *\n",
        "\n",
        "# Declare propositional variables\n",
        "p, q, r, s, t = Bools('p q r s t')\n",
        "\n",
        "# Premises\n",
        "premises = And(\n",
        "    Implies(Implies(p, q), r),\n",
        "    Implies(s, Not(p)),\n",
        "    t,\n",
        "    Not(s),\n",
        "    Implies(t, q)\n",
        ")\n",
        "\n",
        "# Negation of conclusion\n",
        "neg_conclusion = Not(r)\n",
        "\n",
        "# Combine premises with negated conclusion\n",
        "s1 = Solver()\n",
        "s1.add(premises)\n",
        "s1.add(neg_conclusion)\n",
        "\n",
        "# Check satisfiability\n",
        "print(\"Checking entailment of r...\")\n",
        "if s1.check() == unsat:\n",
        "    print(\"✅ Entailment holds: r must be true (unsat)\")\n",
        "else:\n",
        "    print(\"❌ Entailment does NOT hold: counterexample exists\")\n",
        "    print(s1.model())\n",
        "\n",
        "p, q = Bools('p q')\n",
        "\n",
        "# No premises → just test whether negation of formula is satisfiable\n",
        "formula = Implies(q, Implies(p, Implies(p, Implies(q, p))))\n",
        "neg_formula = Not(formula)\n",
        "\n",
        "s2 = Solver()\n",
        "s2.add(neg_formula)\n",
        "\n",
        "print(\"Checking tautology...\")\n",
        "if s2.check() == unsat:\n",
        "    print(\"✅ Valid: formula is a tautology (unsat)\")\n",
        "else:\n",
        "    print(\"❌ Not a tautology: counterexample exists\")\n",
        "    print(s2.model())"
      ],
      "metadata": {
        "id": "Z80-O6FGDtjp",
        "colab": {
          "base_uri": "https://localhost:8080/"
        },
        "outputId": "21ab9965-8a67-48b7-d523-5e2e3fd180db"
      },
      "execution_count": 12,
      "outputs": [
        {
          "output_type": "stream",
          "name": "stdout",
          "text": [
            "Checking entailment of r...\n",
            "✅ Entailment holds: r must be true (unsat)\n",
            "Checking tautology...\n",
            "✅ Valid: formula is a tautology (unsat)\n"
          ]
        }
      ]
    }
  ],
  "metadata": {
    "kernelspec": {
      "display_name": "Python 3",
      "language": "python",
      "name": "python3"
    },
    "language_info": {
      "codemirror_mode": {
        "name": "ipython",
        "version": 3
      },
      "file_extension": ".py",
      "mimetype": "text/x-python",
      "name": "python",
      "nbconvert_exporter": "python",
      "pygments_lexer": "ipython3",
      "version": "3.8.5"
    },
    "colab": {
      "provenance": [],
      "include_colab_link": true
    }
  },
  "nbformat": 4,
  "nbformat_minor": 0
}