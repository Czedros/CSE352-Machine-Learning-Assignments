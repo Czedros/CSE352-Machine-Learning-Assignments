{
  "cells": [
    {
      "cell_type": "markdown",
      "metadata": {
        "id": "view-in-github",
        "colab_type": "text"
      },
      "source": [
        "<a href=\"https://colab.research.google.com/github/Czedros/CSE352-Machine-Learning-Assignments/blob/main/Knowledge-based/z3logic.ipynb\" target=\"_parent\"><img src=\"https://colab.research.google.com/assets/colab-badge.svg\" alt=\"Open In Colab\"/></a>"
      ]
    },
    {
      "cell_type": "markdown",
      "metadata": {
        "id": "-rnkCP9R2o_Z"
      },
      "source": [
        "# Introduction\n",
        "\n",
        "Name: Kay Zhang\n",
        "\n",
        "I understand that my submission needs to be my own work: [add initials]\n",
        "\n",
        "I understand that ChatGPT / Copilot / other AI tools are not allowed: [add initials]\n",
        "\n",
        "Total Points: **75**\n",
        "\n",
        "Complete this notebook and submit it (save/print as pdf). Make sure all output is correct in the pdf before submitting (it sometimes gets cut off). The notebook needs to be a complete project report with your implementation, documentation including a short discussion of how your implementation works and your design choices, and experimental results (e.g., tables and charts with simulation results) with a short discussion of what they mean. Use the provided notebook cells and insert additional code and markdown cells as needed."
      ]
    },
    {
      "cell_type": "markdown",
      "metadata": {
        "id": "wdtvm8lB2o_b"
      },
      "source": [
        "## Z3 and Z3py resources\n",
        "\n",
        "For this problem you will be solving constraint satisfaction and logic problems using the Z3 SMT solver via the z3py python library.\n",
        "\n",
        "The demo code using z3py we went over in class is here: [link](https://drive.google.com/drive/folders/16HQXiwdcaman1IpC7H6vSJ71QQQ-aL2z?usp=sharing)\n",
        "\n",
        "Online help for z3py is here: [link](https://ericpony.github.io/z3py-tutorial/guide-examples.htm)"
      ]
    },
    {
      "cell_type": "markdown",
      "metadata": {
        "id": "F6mYrFaM2o_b"
      },
      "source": [
        "## Installation\n",
        "\n",
        "We first install to get the z3solver library using pip and test that works."
      ]
    },
    {
      "cell_type": "code",
      "source": [
        "!pip install z3-solver"
      ],
      "metadata": {
        "id": "EoLs1AWw38Tj",
        "outputId": "0d7c73d7-1bc1-4c18-bbfa-8033699e158e",
        "colab": {
          "base_uri": "https://localhost:8080/"
        }
      },
      "execution_count": 1,
      "outputs": [
        {
          "output_type": "stream",
          "name": "stdout",
          "text": [
            "Collecting z3-solver\n",
            "  Downloading z3_solver-4.14.1.0-py3-none-manylinux_2_17_x86_64.manylinux2014_x86_64.whl.metadata (602 bytes)\n",
            "Downloading z3_solver-4.14.1.0-py3-none-manylinux_2_17_x86_64.manylinux2014_x86_64.whl (29.5 MB)\n",
            "\u001b[2K   \u001b[90m━━━━━━━━━━━━━━━━━━━━━━━━━━━━━━━━━━━━━━━━\u001b[0m \u001b[32m29.5/29.5 MB\u001b[0m \u001b[31m58.1 MB/s\u001b[0m eta \u001b[36m0:00:00\u001b[0m\n",
            "\u001b[?25hInstalling collected packages: z3-solver\n",
            "Successfully installed z3-solver-4.14.1.0\n"
          ]
        }
      ]
    },
    {
      "cell_type": "code",
      "execution_count": 2,
      "metadata": {
        "id": "xnQTztNX2o_c",
        "outputId": "fb12da8d-1524-49cc-aefa-fddf495896c7",
        "colab": {
          "base_uri": "https://localhost:8080/"
        }
      },
      "outputs": [
        {
          "output_type": "stream",
          "name": "stdout",
          "text": [
            "[y = 0, x = 7]\n"
          ]
        }
      ],
      "source": [
        "# Run the first example from the z3py guide as a test: https://ericpony.github.io/z3py-tutorial/guide-examples.htm\n",
        "from z3 import *\n",
        "\n",
        "x = Int('x')\n",
        "y = Int('y')\n",
        "solve(x > 2, y < 10, x + 2*y == 7)"
      ]
    },
    {
      "cell_type": "markdown",
      "source": [
        "# Sudoku as a constraint satisfaction problem (CSP)\n",
        "\n",
        "Sudoku is a popular number-placement puzzle that originated in France in the end of the 19th century.  Modern Sudoku was likely invented by Howard Garns from Connersville, Indiana and was first published in 1979 under the name *Number Place*. The objective of the puzzle is to place numbers 1-9 on a 9$\\times$9 grid, such that each number occurs only once in every row, every column, and every of the nine 3$\\times$3 sub-grids that compose the main grid.\n",
        "Sudoku puzzles are grids that have been partially occupied with numbers. The task is then to occupy the remaining fields in such a way that the constraints on rows, columns, and sub-grids are satisfied.\n",
        "For more information about Sudoku refer to its Wikipedia page at http://en.wikipedia.org/wiki/Sudoku.\n",
        "\n",
        "This problem has two parts. In the first part, you will write the boolean constraints in mathematical notation for solving a Sudoku puzzle. In the second part, you will write code and invoke the Z3 solver to solve the Sudoku instance and answer various questions about the solution.\n",
        "\n",
        "## Part 1 (Constraints)\n",
        "In text, define and write constraints over **boolean** variables corresponding to each number being in each cell. For example, you may use $X_{i,j}^k$ as teh variable that is true if and only if the number $k$ is in row $i$ and column $j$ (the variable is true if $k$ is in cell $(i, j)$ and false otherwise). Now write the following boolean constaints over these variables:\n",
        "\n",
        "* Write the boolean formula for the constraints that the number 5 can occur at most once in the first row. **(3 point)**\n",
        "* Write the boolean formula for the constraints that the number 6 can occur at most once in the first column. **(3 point)**\n",
        "* Write the boolean formula for the constraints that the number 9 can occur at most once in the top left 3$\\times$3 sub-grid. **(4 point)**"
      ],
      "metadata": {
        "id": "9J3lpQvP52jm"
      }
    },
    {
      "cell_type": "markdown",
      "source": [
        "Solution:\n",
        "\n",
        "Let $X_{i,j}^k$ be a boolean variable such that\n",
        "\n",
        "$X_{i,j}^k$ = true if cell(i,j) contains number k\n",
        "\n",
        "and\n",
        "\n",
        "$X_{i,j}^k$ = false otherwise\n",
        "\n",
        "1.\n",
        "$\\bigwedge_{1 \\leq j < l \\leq 9} \\neg (X_{1,j}^5 \\land X_{1,l}^5)$\n",
        "\n",
        "2.\n",
        "$\\bigwedge_{1 \\leq i < m \\leq 9} \\neg (X_{i,1}^6 \\land X_{m,1}^6)$\n",
        "\n",
        "3.$\\bigwedge_{(i_1, j_1) < (i_2, j_2)} \\neg \\left( X_{i_1, j_1}^9 \\land X_{i_2, j_2}^9 \\right)$\n"
      ],
      "metadata": {
        "id": "ju3Q1ewW7aeu"
      }
    },
    {
      "cell_type": "markdown",
      "source": [
        "## Part 2 (Coding)\n",
        "\n",
        "Encode the above constraints and all the other ones as a CSP using z3py and solve the Sudoku instance given in the figure below. **Use only boolean variables** and do not use the **Distinct** function.\n",
        "\n",
        "* Provide the code to solve that solves the given problem instance using z3py and only boolean variables. The code should output a reasonable visualization of the solution, for example printed in text. **(10 points)**\n",
        "\n",
        "<img src=\"https://raw.githubusercontent.com/stanleybak/CS7320-AI/master/Knowledge-based/sudoku1.jpg\" width=\"400\"/>\n",
        "\n"
      ],
      "metadata": {
        "id": "y7kArKLH7eOR"
      }
    },
    {
      "cell_type": "code",
      "source": [
        "# z3py code to solve above Sudoku goes here. Do not use Int(*), only Bool(*)\n",
        "from z3 import *\n",
        "\n",
        "# Initialize the solver\n",
        "solver = Solver()\n",
        "\n",
        "# Variables: X[i][j][k] is True if cell (i,j) contains number k+1\n",
        "X = [[[Bool(f\"X_{i}_{j}_{k}\") for k in range(9)] for j in range(9)] for i in range(9)]\n",
        "\n",
        "# 1. Each cell contains exactly one number\n",
        "for i in range(9):\n",
        "    for j in range(9):\n",
        "        # At least one number in each cell\n",
        "        solver.add(Or(X[i][j]))\n",
        "        # At most one number in each cell\n",
        "        for k1 in range(9):\n",
        "            for k2 in range(k1 + 1, 9):\n",
        "                solver.add(Or(Not(X[i][j][k1]), Not(X[i][j][k2])))\n",
        "\n",
        "# 2. Each number appears at most once in each row\n",
        "for i in range(9):\n",
        "    for k in range(9):\n",
        "        for j1 in range(9):\n",
        "            for j2 in range(j1 + 1, 9):\n",
        "                solver.add(Or(Not(X[i][j1][k]), Not(X[i][j2][k])))\n",
        "\n",
        "# 3. Each number appears at most once in each column\n",
        "for j in range(9):\n",
        "    for k in range(9):\n",
        "        for i1 in range(9):\n",
        "            for i2 in range(i1 + 1, 9):\n",
        "                solver.add(Or(Not(X[i1][j][k]), Not(X[i2][j][k])))\n",
        "\n",
        "# 4. Each number appears at most once in each 3x3 block\n",
        "for bi in range(3):\n",
        "    for bj in range(3):\n",
        "        for k in range(9):\n",
        "            block_cells = [(bi*3 + di, bj*3 + dj) for di in range(3) for dj in range(3)]\n",
        "            for idx1 in range(9):\n",
        "                for idx2 in range(idx1 + 1, 9):\n",
        "                    i1, j1 = block_cells[idx1]\n",
        "                    i2, j2 = block_cells[idx2]\n",
        "                    solver.add(Or(Not(X[i1][j1][k]), Not(X[i2][j2][k])))\n",
        "\n",
        "# 5. Add known values from the puzzle (from image)\n",
        "# Given values (1-based) from the image\n",
        "puzzle = [\n",
        "    [0, 1, 0, 4, 0, 2, 0, 5, 0],\n",
        "    [5, 0, 0, 0, 0, 0, 0, 0, 6],\n",
        "    [0, 0, 0, 3, 0, 1, 0, 0, 0],\n",
        "    [7, 0, 5, 0, 0, 0, 4, 0, 8],\n",
        "    [0, 0, 0, 0, 0, 0, 0, 0, 0],\n",
        "    [2, 0, 8, 0, 0, 0, 5, 0, 9],\n",
        "    [0, 0, 0, 9, 0, 6, 0, 0, 0],\n",
        "    [6, 0, 0, 0, 0, 0, 0, 0, 2],\n",
        "    [0, 7, 0, 1, 0, 3, 0, 4, 0],\n",
        "]\n",
        "\n",
        "for i in range(9):\n",
        "    for j in range(9):\n",
        "        if puzzle[i][j] != 0:\n",
        "            k = puzzle[i][j] - 1\n",
        "            solver.add(X[i][j][k])\n",
        "\n",
        "def print_grid(model, X):\n",
        "    for i in range(9):\n",
        "        if i % 3 == 0 and i != 0:\n",
        "            print(\"-\" * 21)\n",
        "        row = \"\"\n",
        "        for j in range(9):\n",
        "            if j % 3 == 0 and j != 0:\n",
        "                row += \"| \"\n",
        "            for k in range(9):\n",
        "                if is_true(model.evaluate(X[i][j][k])):\n",
        "                    row += str(k + 1) + \" \"\n",
        "        print(row.strip())\n",
        "\n",
        "if solver.check() == sat:\n",
        "    model = solver.model()\n",
        "    print_grid(model, X)\n",
        "else:\n",
        "    print(\"No solution found.\")\n",
        "\n"
      ],
      "metadata": {
        "id": "UghnVSTS-kJi",
        "outputId": "6872d541-5664-4611-c39d-6aee58abd74a",
        "colab": {
          "base_uri": "https://localhost:8080/"
        }
      },
      "execution_count": 1,
      "outputs": [
        {
          "output_type": "stream",
          "name": "stdout",
          "text": [
            "3 1 9 | 4 6 2 | 8 5 7\n",
            "5 2 4 | 7 9 8 | 1 3 6\n",
            "8 6 7 | 3 5 1 | 9 2 4\n",
            "---------------------\n",
            "7 3 5 | 2 1 9 | 4 6 8\n",
            "1 9 6 | 8 4 5 | 2 7 3\n",
            "2 4 8 | 6 3 7 | 5 1 9\n",
            "---------------------\n",
            "4 5 3 | 9 2 6 | 7 8 1\n",
            "6 8 1 | 5 7 4 | 3 9 2\n",
            "9 7 2 | 1 8 3 | 6 4 5\n"
          ]
        }
      ]
    },
    {
      "cell_type": "markdown",
      "source": [
        "### Uniqueness\n",
        "Is your solution unique? Prove it with a Z3py solver or provide a second solution. **(5 points)**"
      ],
      "metadata": {
        "id": "FIkg9eI38VMG"
      }
    },
    {
      "cell_type": "code",
      "source": [
        "# Save first model\n",
        "if solver.check() == sat:\n",
        "    model1 = solver.model()\n",
        "\n",
        "    # Store current solution in a list\n",
        "    solution = [[-1 for _ in range(9)] for _ in range(9)]\n",
        "    for i in range(9):\n",
        "        for j in range(9):\n",
        "            for k in range(9):\n",
        "                if is_true(model1.evaluate(X[i][j][k])):\n",
        "                    solution[i][j] = k  # Store index (i.e., value - 1)\n",
        "\n",
        "    # Create a new constraint: there exists at least one cell different\n",
        "    diff_constraint = []\n",
        "    for i in range(9):\n",
        "        for j in range(9):\n",
        "            current_k = solution[i][j]\n",
        "            # At least one cell must differ\n",
        "            diff_constraint.append(Not(X[i][j][current_k]))\n",
        "\n",
        "    # Push solver state and add the negation of current solution\n",
        "    solver.push()\n",
        "    solver.add(Or(diff_constraint))  # At least one cell differs\n",
        "    result = solver.check()\n",
        "\n",
        "    if result == unsat:\n",
        "        print(\"✅ The solution is UNIQUE.\")\n",
        "    else:\n",
        "        print(\"❗ There is ANOTHER solution.\")\n",
        "        # Optionally print the alternative\n",
        "        model2 = solver.model()\n",
        "        print(\"Another possible solution:\")\n",
        "        print_grid(model2, X)\n",
        "\n",
        "    solver.pop()\n",
        "else:\n",
        "    print(\"No solution found.\")"
      ],
      "metadata": {
        "id": "-ZacX6gz-4os",
        "outputId": "030815aa-cd71-4819-cea2-83e42885b4da",
        "colab": {
          "base_uri": "https://localhost:8080/"
        }
      },
      "execution_count": 2,
      "outputs": [
        {
          "output_type": "stream",
          "name": "stdout",
          "text": [
            "✅ The solution is UNIQUE.\n"
          ]
        }
      ]
    },
    {
      "cell_type": "markdown",
      "source": [
        "### More Uniqueness\n",
        "If you delete the 1 in the top left box of the Sudoku problem above, how many unique solutions are there? Hint: should be fewer than 5000. **(5 points)**"
      ],
      "metadata": {
        "id": "Z6a18s5x-5Hw"
      }
    },
    {
      "cell_type": "code",
      "source": [
        "# z3py code to solve above Sudoku goes here. Do not use Int(*), only Bool(*)\n",
        "from z3 import *\n",
        "\n",
        "solver = Solver()\n",
        "X = [[[Bool(f\"X_{i}_{j}_{k}\") for k in range(9)] for j in range(9)] for i in range(9)]\n",
        "\n",
        "\n",
        "def count_all_solutions(X, base_solver):\n",
        "    count = 0\n",
        "    solver = Solver()\n",
        "    solver.add(base_solver.assertions())  # Clone constraints\n",
        "\n",
        "    while solver.check() == sat:\n",
        "        model = solver.model()\n",
        "        count += 1\n",
        "\n",
        "        # Build blocking clause to avoid this exact solution\n",
        "        blocking_clause = []\n",
        "        for i in range(9):\n",
        "            for j in range(9):\n",
        "                for k in range(9):\n",
        "                    lit = X[i][j][k]\n",
        "                    if is_true(model.evaluate(lit)):\n",
        "                        # This variable was True in model → block it\n",
        "                        blocking_clause.append(Not(lit))\n",
        "        solver.add(Or(blocking_clause))  # At least one must change\n",
        "\n",
        "    return count\n",
        "\n",
        "\n",
        "\n",
        "# 1. Each cell contains exactly one number\n",
        "for i in range(9):\n",
        "    for j in range(9):\n",
        "        # At least one number in each cell\n",
        "        solver.add(Or(X[i][j]))\n",
        "        # At most one number in each cell\n",
        "        for k1 in range(9):\n",
        "            for k2 in range(k1 + 1, 9):\n",
        "                solver.add(Or(Not(X[i][j][k1]), Not(X[i][j][k2])))\n",
        "\n",
        "# 2. Each number appears at most once in each row\n",
        "for i in range(9):\n",
        "    for k in range(9):\n",
        "        for j1 in range(9):\n",
        "            for j2 in range(j1 + 1, 9):\n",
        "                solver.add(Or(Not(X[i][j1][k]), Not(X[i][j2][k])))\n",
        "\n",
        "# 3. Each number appears at most once in each column\n",
        "for j in range(9):\n",
        "    for k in range(9):\n",
        "        for i1 in range(9):\n",
        "            for i2 in range(i1 + 1, 9):\n",
        "                solver.add(Or(Not(X[i1][j][k]), Not(X[i2][j][k])))\n",
        "\n",
        "# 4. Each number appears at most once in each 3x3 block\n",
        "for bi in range(3):\n",
        "    for bj in range(3):\n",
        "        for k in range(9):\n",
        "            block_cells = [(bi*3 + di, bj*3 + dj) for di in range(3) for dj in range(3)]\n",
        "            for idx1 in range(9):\n",
        "                for idx2 in range(idx1 + 1, 9):\n",
        "                    i1, j1 = block_cells[idx1]\n",
        "                    i2, j2 = block_cells[idx2]\n",
        "                    solver.add(Or(Not(X[i1][j1][k]), Not(X[i2][j2][k])))\n",
        "\n",
        "# 5. Add known values from the puzzle (from image)\n",
        "# Given values (1-based) from the image\n",
        "puzzle = [\n",
        "    [0, 0, 0, 4, 0, 2, 0, 5, 0],\n",
        "    [5, 0, 0, 0, 0, 0, 0, 0, 6],\n",
        "    [0, 0, 0, 3, 0, 1, 0, 0, 0],\n",
        "    [7, 0, 5, 0, 0, 0, 4, 0, 8],\n",
        "    [0, 0, 0, 0, 0, 0, 0, 0, 0],\n",
        "    [2, 0, 8, 0, 0, 0, 5, 0, 9],\n",
        "    [0, 0, 0, 9, 0, 6, 0, 0, 0],\n",
        "    [6, 0, 0, 0, 0, 0, 0, 0, 2],\n",
        "    [0, 7, 0, 1, 0, 3, 0, 4, 0],\n",
        "]\n",
        "\n",
        "total_solutions = count_all_solutions(X, solver)\n",
        "print(f\"🔢 Total number of solutions: {total_solutions}\")"
      ],
      "metadata": {
        "id": "5_2fNgND_CB4"
      },
      "execution_count": null,
      "outputs": []
    },
    {
      "cell_type": "markdown",
      "source": [
        "# Miracle Sudoku\n",
        "\n",
        "Using z3py and only boolean variables, solve the Miracle Sudoku ([spoiler](https://www.youtube.com/watch?v=yKf9aUIxdb4)).\n",
        "In this puzzle normal Sudoku rules apply in addition to the following rules:\n",
        "* Any two cells separated by a knight's move from chess (moving forward two boxes and over one, in any direction) cannot contain the same digit (see image below).\n",
        "* Any two cells separated by a king's move from chess (one box in any direction including diagonals) cannot contain the same digit.\n",
        "* Any two orthogonally adjacent (up, down, left, or right) cells cannot contain consecutive digits."
      ],
      "metadata": {
        "id": "6nF9g7Ca_SJ1"
      }
    },
    {
      "cell_type": "markdown",
      "source": [
        "### Knight's move constraint image\n",
        "<img src=\"https://raw.githubusercontent.com/stanleybak/CS7320-AI/master/Knowledge-based/knights.jpg\" width=\"400\"/>\n",
        "\n",
        "The knight's move constraint would mean the yellow boxes cannot contain a 1.\n"
      ],
      "metadata": {
        "id": "wwjCVYCiAKXq"
      }
    },
    {
      "cell_type": "markdown",
      "source": [
        "## Miracle Sudoku Starting Information\n",
        "Provide the code to solve the puzzle given below. The code should output a reasonable visualization of the solution, for example using text. **(10 points)**\n",
        "\n",
        "<img src=\"https://raw.githubusercontent.com/stanleybak/CS7320-AI/master/Knowledge-based/miracle.jpg\" width=\"400\"/>"
      ],
      "metadata": {
        "id": "S9P6BThtAMv3"
      }
    },
    {
      "cell_type": "code",
      "source": [
        "# Solution code for Miracle Sudoku using z3py\n",
        "from z3 import *\n",
        "\n",
        "from z3 import *\n",
        "\n",
        "# Setup: Bool vars for 9x9 grid, digits 1–9\n",
        "X = [[[Bool(f\"X_{i}_{j}_{k}\") for k in range(9)] for j in range(9)] for i in range(9)]\n",
        "\n",
        "solver = Solver()\n",
        "\n",
        "# Rule 1: Each cell has exactly one digit\n",
        "for i in range(9):\n",
        "    for j in range(9):\n",
        "        solver.add(Or(X[i][j]))\n",
        "        for k1 in range(9):\n",
        "            for k2 in range(k1 + 1, 9):\n",
        "                solver.add(Or(Not(X[i][j][k1]), Not(X[i][j][k2])))\n",
        "\n",
        "# Rule 2: Each digit appears once per row and column\n",
        "for k in range(9):\n",
        "    for i in range(9):\n",
        "        for j1 in range(9):\n",
        "            for j2 in range(j1 + 1, 9):\n",
        "                solver.add(Or(Not(X[i][j1][k]), Not(X[i][j2][k])))\n",
        "    for j in range(9):\n",
        "        for i1 in range(9):\n",
        "            for i2 in range(i1 + 1, 9):\n",
        "                solver.add(Or(Not(X[i1][j][k]), Not(X[i2][j][k])))\n",
        "\n",
        "# Rule 3: Each 3x3 box has unique digits\n",
        "for k in range(9):\n",
        "    for bi in range(3):\n",
        "        for bj in range(3):\n",
        "            block = [(bi * 3 + dx, bj * 3 + dy) for dx in range(3) for dy in range(3)]\n",
        "            for m in range(9):\n",
        "                for n in range(m + 1, 9):\n",
        "                    i1, j1 = block[m]\n",
        "                    i2, j2 = block[n]\n",
        "                    solver.add(Or(Not(X[i1][j1][k]), Not(X[i2][j2][k])))\n",
        "\n",
        "# Miracle rule 1: No knight move duplicates\n",
        "knight_offsets = [(-2, -1), (-1, -2), (-2, 1), (-1, 2),\n",
        "                  (1, -2), (2, -1), (2, 1), (1, 2)]\n",
        "\n",
        "for i in range(9):\n",
        "    for j in range(9):\n",
        "        for dx, dy in knight_offsets:\n",
        "            ni, nj = i + dx, j + dy\n",
        "            if 0 <= ni < 9 and 0 <= nj < 9:\n",
        "                for k in range(9):\n",
        "                    solver.add(Or(Not(X[i][j][k]), Not(X[ni][nj][k])))\n",
        "\n",
        "# Miracle rule 2: No king move duplicates\n",
        "king_offsets = [(-1, -1), (-1, 0), (-1, 1),\n",
        "                ( 0, -1),          ( 0, 1),\n",
        "                ( 1, -1), ( 1, 0), ( 1, 1)]\n",
        "\n",
        "for i in range(9):\n",
        "    for j in range(9):\n",
        "        for dx, dy in king_offsets:\n",
        "            ni, nj = i + dx, j + dy\n",
        "            if 0 <= ni < 9 and 0 <= nj < 9:\n",
        "                for k in range(9):\n",
        "                    solver.add(Or(Not(X[i][j][k]), Not(X[ni][nj][k])))\n",
        "\n",
        "# Miracle rule 3: No consecutive orthogonal neighbors\n",
        "orthogonal_offsets = [(-1, 0), (1, 0), (0, -1), (0, 1)]\n",
        "for i in range(9):\n",
        "    for j in range(9):\n",
        "        for dx, dy in orthogonal_offsets:\n",
        "            ni, nj = i + dx, j + dy\n",
        "            if 0 <= ni < 9 and 0 <= nj < 9:\n",
        "                for k in range(9):\n",
        "                    if k > 0:\n",
        "                        solver.add(Or(Not(X[i][j][k]), Not(X[ni][nj][k - 1])))\n",
        "                    if k < 8:\n",
        "                        solver.add(Or(Not(X[i][j][k]), Not(X[ni][nj][k + 1])))\n",
        "\n",
        "# Initial clue (from the Miracle Sudoku): Only one value is given\n",
        "# Source: [video](https://www.youtube.com/watch?v=yKf9aUIxdb4)\n",
        "# The original puzzle gives a '1' at position (6, 2) [0-indexed: (5, 1)]\n",
        "solver.add(X[5][1][0])  # 1 is index 0\n",
        "\n",
        "# Solve\n",
        "if solver.check() == sat:\n",
        "    model = solver.model()\n",
        "    for i in range(9):\n",
        "        row = \"\"\n",
        "        for j in range(9):\n",
        "            for k in range(9):\n",
        "                if is_true(model.evaluate(X[i][j][k])):\n",
        "                    row += str(k + 1) + \" \"\n",
        "                    break\n",
        "        print(row.strip())\n",
        "else:\n",
        "    print(\"No solution found.\")\n"
      ],
      "metadata": {
        "id": "E56fFoT7CqpY"
      },
      "execution_count": null,
      "outputs": []
    },
    {
      "cell_type": "markdown",
      "source": [
        "---\n",
        "# Number Challenge in Z3py\n",
        "\n",
        "Write Z3py code to solve the Number Challenge puzzle shown below and print the solution found. You can use the `Int` type to create integer variables in z3py. **(20 points)**\n",
        "\n",
        "<img src=\"https://raw.githubusercontent.com/stanleybak/CS7320-AI/master/Knowledge-based/chal.jpg\" width=\"300\"/>"
      ],
      "metadata": {
        "id": "Pjlb4qe5XAGF"
      }
    },
    {
      "cell_type": "code",
      "source": [
        "# Write your solution code for Number Challenge using z3py\n",
        "from z3 import *\n",
        "\n",
        "# example using Int type (feel free to delete)\n",
        "s = Solver()\n",
        "\n",
        "x = Int('x')\n",
        "y = Int('y')\n",
        "\n",
        "s.add((2*y) + x == 20)\n",
        "s.add(x - y == 2)\n",
        "\n",
        "if s.check() == sat:\n",
        "    print(\"sat\")\n",
        "    m = s.model()\n",
        "    print(f\"model: {m}\")\n",
        "\n",
        "    print(f\"x: {x}\")\n",
        "    print(f\"y: {y}\")\n",
        "else:\n",
        "    print(\"unsat\")"
      ],
      "metadata": {
        "id": "zsQCwxTbY5Sg",
        "outputId": "46b9c09f-8c21-4ae6-be7f-d5279a5c63d9",
        "colab": {
          "base_uri": "https://localhost:8080/"
        }
      },
      "execution_count": null,
      "outputs": [
        {
          "output_type": "stream",
          "name": "stdout",
          "text": [
            "sat\n",
            "model: [y = 6, x = 8]\n",
            "x: x\n",
            "y: y\n"
          ]
        }
      ]
    },
    {
      "cell_type": "markdown",
      "source": [
        "\n",
        "\n",
        "\n",
        "---\n",
        "\n",
        "\n",
        "# Propositional Logic\n",
        "\n",
        "Next, we will use truth tables and z3py to prove logical entailment.\n",
        "\n",
        "## Truth Tables\n",
        "\n",
        "Using markdown tables and bold to show relevant rows, use the truth table method to show logical truths.\n",
        "\n",
        "\n",
        "### Example\n",
        "\n",
        "Here's an example that shows $p, p \\rightarrow q \\models q$.  \n",
        "\n",
        "| p | q | p -> q |\n",
        "|-------|-------|---------------------|\n",
        "| **T**     | **T**     | **T**                   |\n",
        "| T     | F     | F                   |\n",
        "| F     | T     | T                   |\n",
        "| F     | F     | T                   |\n",
        "\n",
        "Since $q$ is true whenever $p$ and $p \\rightarrow q$ are true, the expression is true.\n",
        "\n",
        "### Questions\n",
        "\n",
        "Prove that the following semantic entailment expressions are true by using the truth table approach.  Bold the appropriate rows **(7 point)**\n",
        "\n",
        " * $(p\\rightarrow q)\\rightarrow r, s \\rightarrow \\neg p, t, \\neg s, t \\rightarrow q \\models r$\n",
        " * $\\emptyset \\models q \\rightarrow (p \\rightarrow (p \\rightarrow (q \\rightarrow p)))$"
      ],
      "metadata": {
        "id": "sy985abkCrfR"
      }
    },
    {
      "cell_type": "markdown",
      "source": [
        "(add markdown tables here)"
      ],
      "metadata": {
        "id": "wyZsntivFueN"
      }
    },
    {
      "cell_type": "markdown",
      "source": [
        "\n",
        "\n",
        "---\n",
        "\n",
        "\n",
        " ## Logical Entailment using z3py\n",
        "\n",
        " Use Z3py to prove the above two entailments are true using satisfiability. See section 7.5 in the book for details. **(8 points)**"
      ],
      "metadata": {
        "id": "q7le6n2jFu4l"
      }
    },
    {
      "cell_type": "code",
      "source": [
        "# answer code here"
      ],
      "metadata": {
        "id": "Z80-O6FGDtjp"
      },
      "execution_count": null,
      "outputs": []
    }
  ],
  "metadata": {
    "kernelspec": {
      "display_name": "Python 3",
      "language": "python",
      "name": "python3"
    },
    "language_info": {
      "codemirror_mode": {
        "name": "ipython",
        "version": 3
      },
      "file_extension": ".py",
      "mimetype": "text/x-python",
      "name": "python",
      "nbconvert_exporter": "python",
      "pygments_lexer": "ipython3",
      "version": "3.8.5"
    },
    "colab": {
      "provenance": [],
      "include_colab_link": true
    }
  },
  "nbformat": 4,
  "nbformat_minor": 0
}