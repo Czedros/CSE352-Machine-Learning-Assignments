{
  "cells": [
    {
      "cell_type": "markdown",
      "metadata": {
        "id": "view-in-github",
        "colab_type": "text"
      },
      "source": [
        "<a href=\"https://colab.research.google.com/github/Czedros/CSE352-Machine-Learning-Assignments/blob/main/Games/assignment_mean_connect4.ipynb\" target=\"_parent\"><img src=\"https://colab.research.google.com/assets/colab-badge.svg\" alt=\"Open In Colab\"/></a>"
      ]
    },
    {
      "cell_type": "markdown",
      "metadata": {
        "id": "WyISr3c6L8cY"
      },
      "source": [
        "# Adversarial Search: Playing \"Mean\" Connect 4\n",
        "\n",
        "\n",
        "## Instructions\n",
        "\n",
        "Name: Kay Zhang\n",
        "\n",
        "I understand that my submission needs to be my own work: [enter 'yes']\n",
        "\n",
        "Points: 10\n",
        "\n",
        "\n",
        "---\n",
        "\n",
        "\n",
        "\n",
        "Complete this notebook and submit it (save/print as pdf). The notebook needs to be a complete project report with your implementation, documentation including a short discussion of how your implementation works and your design choices, and experimental results (e.g., tables and charts with simulation results) with a short discussion of what they mean. Use the provided notebook cells and insert additional code and markdown cells as needed.\n",
        "\n",
        "## Introduction\n",
        "\n",
        "You will implement different versions of agents that play \"Mean\" Connect 4:\n",
        "\n",
        "> \"Connect 4 is a two-player connection board game, in which the players choose a color and then take turns dropping colored discs into a seven-column, six-row vertically suspended grid. The pieces fall straight down, occupying the lowest available space within the column. The objective of the game is to be the first to form a horizontal, vertical, or diagonal line of four of one's own discs.\" (see [Connect Four on Wikipedia](https://en.wikipedia.org/wiki/Connect_Four))\n",
        "\n",
        "> **The mean part:** This game has an additional rule. Every time it is a player's turn, the player can decide to instead of playing a new disk, take a bottom row disk of the opponent and place it back in the top of the same column. All disks above the removed disk will fall down one position and the removed one will be placed on top. Note that a player can only move an _opponent's disc_ that is in the _bottom row_ of the board. **Further, you are not allowed to play a mean move if your opponent just played one.** This ensures the game will end at some point. This also may affect the definition of a state, compared with standard Connect 4.\n",
        "\n",
        "If a mean move causes both players to win, the game immediately ends and it is a tie, even if one player has more connect-4s than the other one. If a mean move causes one player to win, then the game also ends and the player with the connect-4 is the winner.\n",
        "\n",
        "Note that normal [Connect-4 has been solved](https://en.wikipedia.org/wiki/Connect_Four#Mathematical_solution)\n",
        "in 1988. A connect-4 solver with a discussion of how to solve different parts of the problem can be found here: https://connect4.gamesolver.org/en/"
      ]
    },
    {
      "cell_type": "markdown",
      "metadata": {
        "id": "zuWbcK6gL8cZ"
      },
      "source": [
        "## Task 1: Defining the Search Problem [1 point]\n",
        "\n",
        "Define the components of the search problem associated with this game:\n",
        "\n",
        "* Initial state\n",
        "* Actions\n",
        "* Transition model\n",
        "* Test for the terminal state\n",
        "* Utility for terminal states"
      ]
    },
    {
      "cell_type": "markdown",
      "source": [
        "# Task 1 Solution\n",
        "##Initial State\n",
        "The board is 7 columns by 6 rows, all cells are initially empty.\n",
        "\n",
        "Player 1 moves first.\n",
        "\n",
        "A flag last_move_was_mean set to False (since no move has been made).\n",
        "\n",
        "##Actions\n",
        "\n",
        "Regular Move: Drop a disc in any of the 7 columns that is not already full.\n",
        "   - The disc occupies the lowest empty cell in that column.\n",
        "\n",
        "Mean Move: If the opponent has a disc in the bottom cell of any column and the previous move was not mean, the current player can:\n",
        "   - Take the opponent's disc from the bottom cell of that column.\n",
        "   - \"Lift\" it to the topmost empty cell of the same column.\n",
        "   - The discs that were in between fall down by one cell.\n",
        "   - Mark the \"mean move\" flag as True, which disallows the next player from making a mean move immediately afterward.\n",
        "\n",
        "## 1.3 Transition Model\n",
        "- For a **Regular Move**:\n",
        "  - The new state is obtained by adding the current player's disc to the lowest empty row in the chosen column.\n",
        "  - The \"mean move\" flag is set to False\n",
        "\n",
        "- For a **Mean Move**:\n",
        "  - Remove the opponent's disc from the bottom cell of the chosen column.\n",
        "  - Shift all discs above it one row down.\n",
        "  - Place the removed disc in the highest empty cell of that column\n",
        "  - Set the \"mean move\" flag to True.\n",
        "\n",
        "## 1.4 Test for Terminal State\n",
        "Terminal State Test:\n",
        "\n",
        "A player has four connected disks (horizontally, vertically, or diagonally).\n",
        "\n",
        "The board is full (no legal moves left).\n",
        "\n",
        "A mean move causes both players to win (tie).\n",
        "\n",
        "## 1.5 Utility for Terminal States\n",
        "- +1 for the maximizing (current) player if they have a winning connect-4.\n",
        "- -1 for the minimizing (opponent) player if the current player loses.\n",
        "-  0 if it is a tie."
      ],
      "metadata": {
        "id": "pB_g218IGxtH"
      }
    },
    {
      "cell_type": "markdown",
      "metadata": {
        "id": "cHDORt8_L8cg"
      },
      "source": [
        "#How big is the state space? Give an estimate and explain it."
      ]
    },
    {
      "cell_type": "markdown",
      "source": [
        "A very rough upper bound for standard Connect-4 is often estimated as follows:\n",
        "- Each cell can be in 3 possible states: empty, Player 1 disc, Player 2 disc.\n",
        "- With 42 cells, that yields 3^42 possible board configurations.\n",
        "\n",
        "**However**, in Mean Connect 4, we also track:\n",
        "1. Which player's turn it is (factor of 2).\n",
        "2. Whether the last move was mean or not (another factor of 2).\n",
        "\n",
        "So an upper bound could be on the order of:\n",
        "2 x 2 x 3^42.\n",
        "\n",
        "Which is approximately 1.41 x 10^21.\n"
      ],
      "metadata": {
        "id": "RfIrax0zsbOm"
      }
    },
    {
      "cell_type": "markdown",
      "metadata": {
        "id": "7ci9AS2QL8ch"
      },
      "source": [
        "#How big is the game tree that minimax search will go through? Give an estimate and explain it."
      ]
    },
    {
      "cell_type": "markdown",
      "source": [
        "There's a branching factor of 14, given that there are 7 possible regular and 7 possible \"mean\" moves."
      ],
      "metadata": {
        "id": "_iHIPGpmBc8f"
      }
    },
    {
      "cell_type": "markdown",
      "metadata": {
        "id": "u66LNfUEL8ci"
      },
      "source": [
        "## Task 2: Game Environment and Random Agent [3 point]\n",
        "\n",
        "You can use a numpy character array as the board. Note that the following function can create boards of different sizes."
      ]
    },
    {
      "cell_type": "code",
      "execution_count": 1,
      "metadata": {
        "id": "gFoRCZefL8cj",
        "outputId": "875e5af6-391c-4ab6-fee1-cfd60c7fd80f",
        "colab": {
          "base_uri": "https://localhost:8080/"
        }
      },
      "outputs": [
        {
          "output_type": "stream",
          "name": "stdout",
          "text": [
            "[[0 0 0 0 0 0 0]\n",
            " [0 0 0 0 0 0 0]\n",
            " [0 0 0 0 0 0 0]\n",
            " [0 0 0 0 0 0 0]\n",
            " [0 0 0 0 0 0 0]\n",
            " [0 0 0 0 0 0 0]]\n"
          ]
        }
      ],
      "source": [
        "import numpy as np\n",
        "\n",
        "def empty_board(shape=(6, 7)):\n",
        "    return np.full(shape=shape, fill_value=0)\n",
        "\n",
        "print(empty_board())"
      ]
    },
    {
      "cell_type": "markdown",
      "metadata": {
        "id": "GCCwVya8L8cj"
      },
      "source": [
        "Instead of colors (red and yellow), you can use 1 and -1 to represent the players Max and Min. Make sure that your agent functions all have the from: `agent_type(state, player = 1)`, where board is the current board position and player is the player (1, -1) whose next move it is and who the agent should play."
      ]
    },
    {
      "cell_type": "markdown",
      "metadata": {
        "id": "DtsGKQPsL8ck"
      },
      "source": [
        "Visualization code by Randolph Rankin:"
      ]
    },
    {
      "cell_type": "code",
      "execution_count": null,
      "metadata": {
        "scrolled": true,
        "id": "dRChZkdZL8ck",
        "outputId": "93cf152b-5e40-4a66-b68f-a3ba69d0a94e"
      },
      "outputs": [
        {
          "data": {
            "image/png": "[encoded data removed]",
            "text/plain": [
              "<Figure size 432x288 with 1 Axes>"
            ]
          },
          "metadata": {
            "needs_background": "light"
          },
          "output_type": "display_data"
        }
      ],
      "source": [
        "import matplotlib.pyplot as plt\n",
        "\n",
        "def visualize(board):\n",
        "    plt.axes()\n",
        "    rectangle=plt.Rectangle((-0.5,len(board)*-1+0.5),len(board[0]),len(board),fc='blue')\n",
        "    circles=[]\n",
        "    for i,row in enumerate(board):\n",
        "        for j,val in enumerate(row):\n",
        "            color='white' if val==0 else 'red' if val==1 else 'yellow'\n",
        "            circles.append(plt.Circle((j,i*-1),0.4,fc=color))\n",
        "\n",
        "    plt.gca().add_patch(rectangle)\n",
        "    for circle in circles:\n",
        "        plt.gca().add_patch(circle)\n",
        "\n",
        "    plt.axis('scaled')\n",
        "    plt.show()\n",
        "\n",
        "board = [[0, 0, 0, 0, 0, 0, 0],\n",
        "         [0, 0, 0, 0, 0, 0, 0],\n",
        "         [0, 0, 0, 0, 0, 0, 0],\n",
        "         [0, 0, 0, 1, 0, 0, 0],\n",
        "         [0, 0, 0, 1, 0, 0, 0],\n",
        "         [0,-1,-1, 1,-1, 0, 0]]\n",
        "\n",
        "visualize(board)"
      ]
    },
    {
      "cell_type": "markdown",
      "metadata": {
        "id": "ZOa_fihRL8ck"
      },
      "source": [
        "Implement helper functions for:\n",
        "\n",
        "* The transition model $result(s, a)$.\n",
        "* The utility function $utility(s)$.\n",
        "* Check for terminal states $terminal(s)$.\n",
        "* A check for available actions in each state $actions(s)$.\n",
        "\n",
        "Make sure that all these functions work with boards of different sizes (number of columns and rows)."
      ]
    },
    {
      "cell_type": "code",
      "execution_count": 12,
      "metadata": {
        "id": "8sDMBWFtL8ck"
      },
      "outputs": [],
      "source": [
        "import numpy as np\n",
        "\n",
        "def _column_is_full(board, col):\n",
        "    \"\"\"Check if a given column col is full (i.e. top cell is nonzero).\"\"\"\n",
        "    return board[0, col] != 0\n",
        "\n",
        "def _lowest_empty_row(board, col):\n",
        "    \"\"\"\n",
        "    Return the index of the lowest empty row in column 'col',\n",
        "    or None if the column is full.\n",
        "    \"\"\"\n",
        "    rows = board.shape[0]\n",
        "    for row in range(rows-1, -1, -1):\n",
        "        if board[row, col] == 0:\n",
        "            return row\n",
        "    return None  # if no empty cell\n",
        "\n",
        "def actions(board, player, last_move_was_mean=False):\n",
        "    \"\"\"\n",
        "    Return all possible actions for 'player' in the current board state.\n",
        "    Each action is a tuple: (\"regular\", col) or (\"mean\", col).\n",
        "    \"\"\"\n",
        "    rows, cols = board.shape\n",
        "    opponent = -player\n",
        "    valid_actions = []\n",
        "\n",
        "    # --- 1) Regular moves ---\n",
        "    for col in range(cols):\n",
        "        if not _column_is_full(board, col):\n",
        "            valid_actions.append((\"regular\", col))\n",
        "\n",
        "    # --- 2) Mean moves ---\n",
        "    if not last_move_was_mean:\n",
        "        bottom_row = rows - 1\n",
        "        for col in range(cols):\n",
        "            if board[bottom_row, col] == opponent:\n",
        "                if board[0, col] == 0:  # top is empty => we can move that bottom disc up top\n",
        "                    valid_actions.append((\"mean\", col))\n",
        "\n",
        "    return valid_actions\n",
        "\n",
        "def result(board, action, player, last_move_was_mean=False):\n",
        "    \"\"\"\n",
        "    Apply the given action (\"regular\" or \"mean\") in a *copy* of 'board' for 'player'.\n",
        "    Returns (new_board, next_player, new_last_mean_flag).\n",
        "    \"\"\"\n",
        "    rows, cols = board.shape\n",
        "    new_board = board.copy()\n",
        "    action_type, col = action\n",
        "    opponent = -player\n",
        "\n",
        "    if action_type == \"regular\":\n",
        "        # Place player's disc in the lowest empty position of col.\n",
        "        row_to_fill = _lowest_empty_row(new_board, col)\n",
        "        if row_to_fill is None:\n",
        "            raise ValueError(f\"Column {col} is full; cannot do a regular move here.\")\n",
        "        new_board[row_to_fill, col] = player\n",
        "\n",
        "        return new_board, opponent, False  # Next player is the opponent; last move was NOT mean\n",
        "\n",
        "    elif action_type == \"mean\":\n",
        "        # We remove opponent's disc from bottom cell,\n",
        "        # shift everything above it down by one,\n",
        "        # then place that disc in the topmost empty cell in the same col.\n",
        "        bottom_row = rows - 1\n",
        "\n",
        "        if new_board[bottom_row, col] != opponent:\n",
        "            raise ValueError(\"Invalid mean move: bottom cell is not the opponent's disc.\")\n",
        "        new_board[bottom_row, col] = 0\n",
        "\n",
        "        for r in range(bottom_row - 1, -1, -1):\n",
        "            new_board[r+1, col] = new_board[r, col]\n",
        "        new_board[0, col] = 0\n",
        "\n",
        "        row_to_fill = _lowest_empty_row(new_board, col)\n",
        "        if row_to_fill is None:\n",
        "            raise ValueError(\"Invalid mean move: no space at the top? Shouldn't happen if action is valid.\")\n",
        "        new_board[row_to_fill, col] = opponent\n",
        "\n",
        "        return new_board, opponent, True  # Next player is the opponent; last move WAS mean\n",
        "\n",
        "    else:\n",
        "        raise ValueError(f\"Unknown action type: {action_type}\")\n",
        "\n",
        "def terminal(board):\n",
        "    \"\"\"\n",
        "    Check if the position is terminal (game over).\n",
        "    Returns True if terminal, else False.\n",
        "    \"\"\"\n",
        "    # 1) Check if either/both players has a connect-4\n",
        "    p1_win = has_connect4(board, +1)\n",
        "    p2_win = has_connect4(board, -1)\n",
        "\n",
        "    if p1_win or p2_win:\n",
        "        # If both are True (only possible via a mean move), the game ends in a tie\n",
        "        return True\n",
        "\n",
        "    # If the top row has no empty cells, the board is effectively full\n",
        "    if np.all(board[0] != 0):\n",
        "        return True\n",
        "\n",
        "    return False\n",
        "\n",
        "def utility(board):\n",
        "    \"\"\"\n",
        "    Returns a utility value for the board:\n",
        "      +1 if Player +1 (Max) has connect-4\n",
        "      -1 if Player -1 (Min) has connect-4\n",
        "       0 if neither or both (tie).\n",
        "    \"\"\"\n",
        "    p1_win = has_connect4(board, +1)\n",
        "    p2_win = has_connect4(board, -1)\n",
        "\n",
        "    if p1_win and not p2_win:\n",
        "        return +1\n",
        "    elif p2_win and not p1_win:\n",
        "        return -1\n",
        "    else:\n",
        "        # Either tie or no connect-4\n",
        "        return 0\n",
        "\n",
        "def has_connect4(board, player):\n",
        "    \"\"\"\n",
        "    Check if 'player' (+1 or -1) has a 4-in-a-row anywhere on the board.\n",
        "    This works for boards of arbitrary shape.\n",
        "    Helper for a helper... Yes.\n",
        "    \"\"\"\n",
        "    rows, cols = board.shape\n",
        "\n",
        "    for r in range(rows):\n",
        "        for c in range(cols - 3):\n",
        "            window = board[r, c:c+4]\n",
        "            if np.all(window == player):\n",
        "                return True\n",
        "\n",
        "    for r in range(rows - 3):\n",
        "        for c in range(cols):\n",
        "            window = board[r:r+4, c]\n",
        "            if np.all(window == player):\n",
        "                return True\n",
        "\n",
        "    for r in range(rows - 3):\n",
        "        for c in range(cols - 3):\n",
        "            diag = [board[r + i, c + i] for i in range(4)]\n",
        "            if np.all(np.array(diag) == player):\n",
        "                return True\n",
        "\n",
        "    for r in range(rows - 3):\n",
        "        for c in range(3, cols):\n",
        "            diag = [board[r + i, c - i] for i in range(4)]\n",
        "            if np.all(np.array(diag) == player):\n",
        "                return True\n",
        "\n",
        "    return False\n"
      ]
    },
    {
      "cell_type": "markdown",
      "metadata": {
        "id": "8T7SYQM4L8cl"
      },
      "source": [
        "Implement an agent that plays randomly. Make sure the agent function receives as the percept the game state and returns a valid action. Use an agent function definition with the following signature (arguments):\n",
        "\n",
        "`def random_player(state, player = None): ...`\n",
        "\n",
        "The argument `player` is used for agents that do not store what side they are playing. The value passed on by the environment should be 1 ot -1 for playerred and yellow, respectively.  See [Experiments section for tic-tac-toe](https://nbviewer.org/github/mhahsler/CS7320-AI/blob/master/Games/tictactoe_and_or_tree_search.ipynb#Experiments) for an example."
      ]
    },
    {
      "cell_type": "code",
      "execution_count": 26,
      "metadata": {
        "id": "g0uUKNKNL8cl"
      },
      "outputs": [],
      "source": [
        "import random\n",
        "\n",
        "def random_player(board, player, last_move_was_mean=False):\n",
        "    legal_moves = actions(board, player, last_move_was_mean)\n",
        "    return random.choice(legal_moves) if legal_moves else None"
      ]
    },
    {
      "cell_type": "markdown",
      "metadata": {
        "id": "rS3yOFlbL8cl"
      },
      "source": [
        "Let two random agents play against each other 1000 times. Look at the [Experiments section for tic-tac-toe](https://nbviewer.org/github/mhahsler/CS7320-AI/blob/master/Games/tictactoe_and_or_tree_search.ipynb#Experiments) to see how the environment uses the agent functions to play against each other.\n",
        "\n",
        "How often does each player win? Is the result expected?"
      ]
    },
    {
      "cell_type": "code",
      "execution_count": 29,
      "metadata": {
        "tags": [],
        "id": "55tvNH3vL8cl",
        "colab": {
          "base_uri": "https://localhost:8080/"
        },
        "outputId": "f0596e6f-5983-4728-fd30-5065fe66e859"
      },
      "outputs": [
        {
          "output_type": "stream",
          "name": "stdout",
          "text": [
            "Over 1000 random vs. random games:\n",
            "Player 1 wins: 583\n",
            "Player 2 wins: 395\n",
            "Ties:          22\n"
          ]
        }
      ],
      "source": [
        "def play_game(agent1, agent2, verbose=False):\n",
        "    \"\"\"\n",
        "    Let agent1 (player=+1) and agent2 (player=-1) play until terminal.\n",
        "    Return the utility of the final board: +1, -1, or 0 (tie).\n",
        "    \"\"\"\n",
        "    board = empty_board((6,7))\n",
        "    current_player = +1   # agent1 goes first\n",
        "    last_move_was_mean = False\n",
        "\n",
        "    while True:\n",
        "        if terminal(board):\n",
        "            break\n",
        "\n",
        "        if current_player == +1:\n",
        "            action = agent1(board, +1, last_move_was_mean)\n",
        "        else:\n",
        "            action = agent2(board, -1, last_move_was_mean)\n",
        "\n",
        "        # If no legal moves, we are effectively stuck => terminal\n",
        "        if not action:\n",
        "            break\n",
        "\n",
        "        new_board, next_player, new_mean_flag = result(board, action, current_player, last_move_was_mean)\n",
        "\n",
        "        # Update\n",
        "        board = new_board\n",
        "        current_player = next_player\n",
        "        last_move_was_mean = new_mean_flag\n",
        "\n",
        "        if verbose:\n",
        "            print(board, \"\\n\")\n",
        "\n",
        "    return utility(board)\n",
        "\n",
        "num_games = 1000\n",
        "wins_player1 = 0\n",
        "wins_player2 = 0\n",
        "ties = 0\n",
        "\n",
        "for _ in range(num_games):\n",
        "    outcome = play_game(random_player, random_player, verbose=False)\n",
        "    if outcome == +1:\n",
        "        wins_player1 += 1\n",
        "    elif outcome == -1:\n",
        "        wins_player2 += 1\n",
        "    else:\n",
        "        ties += 1\n",
        "\n",
        "print(f\"Over {num_games} random vs. random games:\")\n",
        "print(f\"Player 1 wins: {wins_player1}\")\n",
        "print(f\"Player 2 wins: {wins_player2}\")\n",
        "print(f\"Ties:          {ties}\")"
      ]
    },
    {
      "cell_type": "markdown",
      "source": [
        "#Result Analysis\n",
        "\n",
        "P1 wins more than P2, with minimal ties, this is expected as player 1 has a great advantage compared to P2 in Connect 4.\n",
        "\n",
        "The win loss ratio for p1 vs p2 is about 60:40, which is expected. As with an optimal agent P1 always wins.\n",
        "\n",
        "Ties are interesting, as usually connect 4 always has a winner. So seeing ties is kind of interesting."
      ],
      "metadata": {
        "id": "Ob1kwiHurIsu"
      }
    },
    {
      "cell_type": "markdown",
      "metadata": {
        "id": "DvzOxRDpL8cm"
      },
      "source": [
        "## Task 3: Minimax Search with Alpha-Beta Pruning [3 points]\n",
        "\n",
        "### Implement the search starting.\n",
        "\n",
        "Implement the search starting from a given state and specifying the player and put it into an agent function.\n",
        "You can use code from the [tic-tac-toe example](https://nbviewer.org/github/mhahsler/CS7320-AI/blob/master/Games/tictactoe_alpha_beta_tree_search.ipynb).\n",
        "\n",
        "__Notes:__\n",
        "* Make sure that all your agent functions have a signature consistent with the random agent above.\n",
        "* The search space for a $6 \\times 7$ board is large. You can experiment with smaller boards (the smallest is $4 \\times 4$) and/or changing the winning rule to connect 3 instead of 4."
      ]
    },
    {
      "cell_type": "code",
      "execution_count": 57,
      "metadata": {
        "id": "GJ2xQLrWL8cm"
      },
      "outputs": [],
      "source": [
        "import math\n",
        "def max_value_ab(board, player, last_move_was_mean, alpha, beta):\n",
        "    if terminal(board):\n",
        "        return utility(board), None\n",
        "    v, best_action = -math.inf, None\n",
        "    for a in actions(board, player, last_move_was_mean):\n",
        "        new_board, next_player, new_mean = result(board, a, player, last_move_was_mean)\n",
        "        v2, _ = min_value_ab(new_board, next_player, new_mean, alpha, beta)\n",
        "        if v2 > v:\n",
        "            v, best_action = v2, a\n",
        "        alpha = max(alpha, v)\n",
        "        if v >= beta:\n",
        "            break\n",
        "    return v, best_action\n",
        "\n",
        "def min_value_ab(board, player, last_move_was_mean, alpha, beta):\n",
        "    if terminal(board):\n",
        "        return utility(board), None\n",
        "    v, best_action = math.inf, None\n",
        "    for a in actions(board, player, last_move_was_mean):\n",
        "        new_board, next_player, new_mean = result(board, a, player, last_move_was_mean)\n",
        "        v2, _ = max_value_ab(new_board, next_player, new_mean, alpha, beta)\n",
        "        if v2 < v:\n",
        "            v, best_action = v2, a\n",
        "        beta = min(beta, v)\n",
        "        if v <= alpha:\n",
        "            break\n",
        "    return v, best_action\n",
        "def alpha_beta_agent(board, player, last_move_was_mean=False):\n",
        "    \"\"\"\n",
        "    If player=+1 => do max_value_ab\n",
        "    If player=-1 => do min_value_ab\n",
        "    Returns just the chosen action.\n",
        "    \"\"\"\n",
        "    alpha, beta = -math.inf, math.inf\n",
        "    if player == +1:\n",
        "        _, move = max_value_ab(board, player, last_move_was_mean, alpha, beta)\n",
        "    else:\n",
        "        _, move = min_value_ab(board, player, last_move_was_mean, alpha, beta)\n",
        "    return move\n"
      ]
    },
    {
      "cell_type": "markdown",
      "metadata": {
        "id": "XQeK9qFXL8cm"
      },
      "source": [
        "Experiment with some manually created boards (at least 5) to check if the agent spots winning opportunities."
      ]
    },
    {
      "cell_type": "code",
      "execution_count": 46,
      "metadata": {
        "id": "ECcMh7WTL8cm",
        "colab": {
          "base_uri": "https://localhost:8080/"
        },
        "outputId": "34a401d9-0028-4334-de48-d99bdc5887ec"
      },
      "outputs": [
        {
          "output_type": "stream",
          "name": "stdout",
          "text": [
            "Current board state:\n",
            " [[ 0  0  0  0]\n",
            " [ 0  0  0  0]\n",
            " [ 0  0  0  0]\n",
            " [ 1  1  1 -1]]\n",
            "Player to move: Player +1\n",
            "last_move_was_mean: False\n",
            "Chosen action by alpha-beta: ('regular', 2)\n",
            "Time taken: 43.536741 seconds\n",
            "----------------------------------------\n",
            "Current board state:\n",
            " [[ 0  0  0  0]\n",
            " [ 0  0  0  0]\n",
            " [ 1  0 -1  0]\n",
            " [ 1  1 -1  0]]\n",
            "Player to move: Player -1\n",
            "last_move_was_mean: False\n",
            "Chosen action by alpha-beta: ('regular', 2)\n",
            "Time taken: 1.477536 seconds\n",
            "----------------------------------------\n",
            "Current board state:\n",
            " [[ 0  0  0  0]\n",
            " [ 0  1 -1  0]\n",
            " [ 0  1  1 -1]\n",
            " [ 1 -1  1 -1]]\n",
            "Player to move: Player +1\n",
            "last_move_was_mean: False\n",
            "Chosen action by alpha-beta: ('regular', 0)\n",
            "Time taken: 0.556321 seconds\n",
            "----------------------------------------\n",
            "Current board state:\n",
            " [[ 0  0  0  0]\n",
            " [ 0  0  0  0]\n",
            " [ 0  0  0  0]\n",
            " [ 1  0  0  0]\n",
            " [ 1 -1  0  0]\n",
            " [ 1 -1  0  0]]\n",
            "Player to move: Player +1\n",
            "last_move_was_mean: False\n",
            "Chosen action by alpha-beta: ('regular', 0)\n",
            "Time taken: 20.710795 seconds\n",
            "----------------------------------------\n",
            "Current board state:\n",
            " [[ 1  1 -1  1  0  0]\n",
            " [ 1 -1  1  1 -1  0]\n",
            " [ 1  1  1 -1  1 -1]\n",
            " [ 1 -1 -1  1  1 -1]]\n",
            "Player to move: Player -1\n",
            "last_move_was_mean: False\n",
            "Chosen action by alpha-beta: None\n",
            "Time taken: 0.000965 seconds\n",
            "----------------------------------------\n",
            "Finished testing 5 manually created boards.\n",
            "\n"
          ]
        }
      ],
      "source": [
        "import time\n",
        "def experiment_alpha_beta(board, player=+1, last_move_was_mean=False):\n",
        "    \"\"\"\n",
        "    1) Print the board\n",
        "    2) Call alpha_beta_agent\n",
        "    3) Measure time\n",
        "    4) Print the chosen action\n",
        "    \"\"\"\n",
        "    print(\"Current board state:\\n\", board)\n",
        "    print(\"Player to move:\", \"Player +1\" if player == +1 else \"Player -1\")\n",
        "    print(\"last_move_was_mean:\", last_move_was_mean)\n",
        "\n",
        "    start_time = time.perf_counter()\n",
        "    chosen_action = alpha_beta_agent(board, player, last_move_was_mean)\n",
        "    end_time = time.perf_counter()\n",
        "\n",
        "    print(f\"Chosen action by alpha-beta: {chosen_action}\")\n",
        "    print(f\"Time taken: {end_time - start_time:.6f} seconds\")\n",
        "    print(\"-\"*40)\n",
        "\n",
        "\n",
        "if __name__ == \"__main__\":\n",
        "    # Smaller board first (4x4), for quick results\n",
        "\n",
        "    # 1) Simple board where +1 has an advantage\n",
        "    board1 = np.zeros((4,4), dtype=int)\n",
        "    board1[3,0] = +1\n",
        "    board1[3,1] = +1\n",
        "    board1[3,2] = +1\n",
        "    board1[3,3] = -1\n",
        "\n",
        "    experiment_alpha_beta(board1, player=+1, last_move_was_mean=False)\n",
        "\n",
        "    # 2) A board where -1 can do a mean move to disrupt +1\n",
        "    board2 = np.zeros((4,4), dtype=int)\n",
        "    board2[3,0] = +1\n",
        "    board2[3,1] = +1\n",
        "    board2[2,0] = +1\n",
        "    board2[3,2] = -1\n",
        "    board2[2,2] = -1\n",
        "    # last move was not mean => -1 can consider a mean move if there's a +1 at bottom somewhere\n",
        "    experiment_alpha_beta(board2, player=-1, last_move_was_mean=False)\n",
        "\n",
        "    # 3) A mid-game state (4x4) with some random discs\n",
        "    board3 = np.array([\n",
        "        [ 0,  0,  0,  0],\n",
        "        [ 0, +1, -1,  0],\n",
        "        [ 0, +1, +1, -1],\n",
        "        [+1, -1, +1, -1]\n",
        "    ])\n",
        "    experiment_alpha_beta(board3, player=+1, last_move_was_mean=False)\n",
        "\n",
        "    # 4) Another state with potential vertical connect-4\n",
        "    board4 = np.zeros((6,4), dtype=int)\n",
        "    # place +1 vertically in col=0\n",
        "    board4[5,0] = +1\n",
        "    board4[4,0] = +1\n",
        "    board4[3,0] = +1\n",
        "    # Place -1 somewhere else\n",
        "    board4[5,1] = -1\n",
        "    board4[4,1] = -1\n",
        "    experiment_alpha_beta(board4, player=+1, last_move_was_mean=False)\n",
        "\n",
        "    # 5) Larger board, near full. 4x6\n",
        "    board5 = np.array([\n",
        "        [+1, +1, -1, +1,  0,  0],\n",
        "        [+1, -1, +1, +1, -1,  0],\n",
        "        [+1, +1, +1, -1, +1, -1],\n",
        "        [+1, -1, -1, +1, +1, -1]\n",
        "    ])\n",
        "    # Suppose it's -1's turn\n",
        "    experiment_alpha_beta(board5, player=-1, last_move_was_mean=False)\n",
        "\n",
        "    print(\"Finished testing 5 manually created boards.\\n\")"
      ]
    },
    {
      "cell_type": "markdown",
      "metadata": {
        "id": "8ByI_b2VL8cm"
      },
      "source": [
        "How long does it take to make a move? Start with a smaller board with 4 columns and make the board larger by adding columns."
      ]
    },
    {
      "cell_type": "markdown",
      "source": [
        "####Answer\n",
        "\n",
        "It takes on average 20-40 seconds given a clean board, and grows exponentially given the increase in possible moves."
      ],
      "metadata": {
        "id": "xOzmnMu1znMD"
      }
    },
    {
      "cell_type": "markdown",
      "metadata": {
        "id": "XDHTe0LcL8cn"
      },
      "source": [
        "### Move ordering\n",
        "\n",
        "Starting the search with better moves will increase the efficiency of alpha-beta pruning. Describe and implement a simple move ordering strategy. Make a table that shows how the ordering strategies influence the time it takes to make a move."
      ]
    },
    {
      "cell_type": "code",
      "execution_count": 58,
      "metadata": {
        "id": "omeYo7HyL8cn",
        "colab": {
          "base_uri": "https://localhost:8080/"
        },
        "outputId": "f0b91e64-e461-4deb-8249-64aa63bfc33e"
      },
      "outputs": [
        {
          "output_type": "stream",
          "name": "stdout",
          "text": [
            "Board Size | MoveOrder=False Time (s) | MoveOrder=True Time (s) | Example Move\n",
            "----------------------------------------------------------------------\n",
            "4x4        |                81.189646 |               82.100465 | ('regular', 1)\n"
          ]
        }
      ],
      "source": [
        "\n",
        "def ordered_actions(board, player, last_move_was_mean=False):\n",
        "    \"\"\"\n",
        "    Like 'actions', but we reorder columns so that columns near the center\n",
        "    are explored first. This tends to improve alpha-beta pruning in Connect4.\n",
        "    \"\"\"\n",
        "    acts = actions(board, player, last_move_was_mean)\n",
        "    rows, cols = board.shape\n",
        "    center = (cols - 1)/2.0\n",
        "\n",
        "    def priority(move):\n",
        "        (mt, c) = move\n",
        "        # more negative the distance => higher priority\n",
        "        # we can just do negative absolute distance\n",
        "        return -abs(c - center)\n",
        "\n",
        "    acts.sort(key=priority, reverse=True)\n",
        "\n",
        "    return acts\n",
        "\n",
        "\n",
        "#Reusing existing function names out of laziness\n",
        "def max_value_ab(board, player, last_move_was_mean, alpha, beta, move_order=False):\n",
        "    if terminal(board):\n",
        "        return utility(board), None\n",
        "    v, best_action = -math.inf, None\n",
        "\n",
        "    # Decide which actions function to use\n",
        "    if move_order:\n",
        "        possible_moves = ordered_actions(board, player, last_move_was_mean)\n",
        "    else:\n",
        "        possible_moves = actions(board, player, last_move_was_mean)\n",
        "\n",
        "    for a in possible_moves:\n",
        "        new_board, next_p, next_m = result(board, a, player, last_move_was_mean)\n",
        "        v2, _ = min_value_ab(new_board, next_p, next_m, alpha, beta, move_order)\n",
        "        if v2 > v:\n",
        "            v, best_action = v2, a\n",
        "        alpha = max(alpha, v)\n",
        "        if v >= beta:\n",
        "            break\n",
        "    return v, best_action\n",
        "\n",
        "def min_value_ab(board, player, last_move_was_mean, alpha, beta, move_order=False):\n",
        "    if terminal(board):\n",
        "        return utility(board), None\n",
        "    v, best_action = math.inf, None\n",
        "\n",
        "    if move_order:\n",
        "        possible_moves = ordered_actions(board, player, last_move_was_mean)\n",
        "    else:\n",
        "        possible_moves = actions(board, player, last_move_was_mean)\n",
        "\n",
        "    for a in possible_moves:\n",
        "        new_board, next_p, next_m = result(board, a, player, last_move_was_mean)\n",
        "        v2, _ = max_value_ab(new_board, next_p, next_m, alpha, beta, move_order)\n",
        "        if v2 < v:\n",
        "            v, best_action = v2, a\n",
        "        beta = min(beta, v)\n",
        "        if v <= alpha:\n",
        "            break\n",
        "    return v, best_action\n",
        "\n",
        "def alpha_beta_agent(board, player, last_move_was_mean=False, move_order=False):\n",
        "    alpha, beta = -math.inf, math.inf\n",
        "    if player == +1:\n",
        "        val, move = max_value_ab(board, player, last_move_was_mean, alpha, beta, move_order)\n",
        "    else:\n",
        "        val, move = min_value_ab(board, player, last_move_was_mean, alpha, beta, move_order)\n",
        "    return move\n",
        "\n",
        "def play_once(board, player, move_order=False):\n",
        "    \"\"\"\n",
        "    Play one move using alpha-beta, measure how long it takes.\n",
        "    Return (chosen_move, time_elapsed).\n",
        "    \"\"\"\n",
        "    start_t = time.perf_counter()\n",
        "    mv = alpha_beta_agent(board, player, move_order=move_order)\n",
        "    end_t = time.perf_counter()\n",
        "    elapsed = end_t - start_t\n",
        "    return mv, elapsed\n",
        "\n",
        "def make_experiment_table():\n",
        "    \"\"\"\n",
        "    We'll test a few board shapes or states.\n",
        "    For each, we measure the time to pick a single move\n",
        "    with (move_order=False) and with (move_order=True).\n",
        "    We'll store or print the results in a small table.\n",
        "    \"\"\"\n",
        "    # Example board sizes or states to measure\n",
        "    test_cases = []\n",
        "    # 1) 4x4 almost empty\n",
        "    test_cases.append( (np.zeros((4,4), dtype=int), +1) )\n",
        "\n",
        "    print(\"Board Size | MoveOrder=False Time (s) | MoveOrder=True Time (s) | Example Move\")\n",
        "    print(\"-\"*70)\n",
        "\n",
        "    for board, ply in test_cases:\n",
        "        # with no ordering\n",
        "        _, t_no_order = play_once(board, ply, move_order=False)\n",
        "        # with ordering\n",
        "        chosen_move, t_order = play_once(board, ply, move_order=True)\n",
        "\n",
        "        shape_str = f\"{board.shape[0]}x{board.shape[1]}\"\n",
        "        print(f\"{shape_str:<10} | {t_no_order:24.6f} | {t_order:23.6f} | {chosen_move}\")\n",
        "make_experiment_table()\n",
        "\n"
      ]
    },
    {
      "cell_type": "markdown",
      "metadata": {
        "id": "n_ZJDd9nL8cn"
      },
      "source": [
        "### The first few moves\n",
        "\n",
        "Start with an empty board. This is the worst case scenario for minimax search with alpha-beta pruning since it needs solve all possible games that can be played (minus some pruning) before making the decision. What can you do?"
      ]
    },
    {
      "cell_type": "markdown",
      "source": [
        "####**Answer**\n",
        "To minimize the number of Extraneous moves, we can use a Depth Limit. Which, at the cost of accuracy can help save time in searching."
      ],
      "metadata": {
        "id": "rpaLFI3v2Y8k"
      }
    },
    {
      "cell_type": "markdown",
      "metadata": {
        "id": "Uhk1YRnDL8cn"
      },
      "source": [
        "### Playtime\n",
        "\n",
        "Let the Minimax Search agent play a random agent on a small board. Analyze wins, losses and draws."
      ]
    },
    {
      "cell_type": "code",
      "execution_count": 60,
      "metadata": {
        "id": "Kx1qffv2L8co",
        "colab": {
          "base_uri": "https://localhost:8080/"
        },
        "outputId": "32ce4ac1-c64c-4a0e-f9ad-852c577a8da3"
      },
      "outputs": [
        {
          "output_type": "stream",
          "name": "stdout",
          "text": [
            "After 5 games on a 4x4 board:\n",
            "  Minimax (Player +1) wins: 5\n",
            "  Random  (Player -1) wins: 0\n",
            "  Ties: 0\n"
          ]
        }
      ],
      "source": [
        "#Redefining Play Game here to make size of board dynamic. Too laze to actually change original\n",
        "def play_game(agent1, agent2, rows=4, cols=4, verbose=False):\n",
        "    \"\"\"\n",
        "    Let agent1 (Player +1) and agent2 (Player -1) play on a board of size rows x cols.\n",
        "    Return the final utility: +1 if agent1 wins, -1 if agent2 wins, 0 if tie.\n",
        "    \"\"\"\n",
        "    board = np.zeros((rows, cols), dtype=int)\n",
        "    current_player = +1\n",
        "    last_move_mean = False\n",
        "\n",
        "    while True:\n",
        "        if terminal(board):\n",
        "            break\n",
        "        if current_player == +1:\n",
        "            action = agent1(board, +1, last_move_mean)\n",
        "        else:\n",
        "            action = agent2(board, -1, last_move_mean)\n",
        "\n",
        "        if not action:\n",
        "            # no legal moves => terminal\n",
        "            break\n",
        "\n",
        "        new_board, next_player, new_mean = result(board, action, current_player, last_move_mean)\n",
        "        board = new_board\n",
        "        current_player = next_player\n",
        "        last_move_mean = new_mean\n",
        "\n",
        "        if verbose:\n",
        "            print(f\"Player { -current_player } took action {action}\")\n",
        "            print(board, \"\\n\")\n",
        "\n",
        "    return utility(board)\n",
        "\n",
        "def experiment_minimax_vs_random(num_games=5, rows=4, cols=4):\n",
        "    \"\"\"\n",
        "    Let the alpha_beta_agent (or your minimax agent) face the random_agent\n",
        "    for num_games. Print how many wins, losses, ties.\n",
        "    \"\"\"\n",
        "    wins_p1 = 0\n",
        "    wins_p2 = 0\n",
        "    ties    = 0\n",
        "\n",
        "    for _ in range(num_games):\n",
        "        outcome = play_game(alpha_beta_agent, random_player, rows=rows, cols=cols, verbose=False)\n",
        "        if outcome == +1:\n",
        "            wins_p1 += 1\n",
        "        elif outcome == -1:\n",
        "            wins_p2 += 1\n",
        "        else:\n",
        "            ties += 1\n",
        "\n",
        "    print(f\"After {num_games} games on a {rows}x{cols} board:\")\n",
        "    print(f\"  Minimax (Player +1) wins: {wins_p1}\")\n",
        "    print(f\"  Random  (Player -1) wins: {wins_p2}\")\n",
        "    print(f\"  Ties: {ties}\")\n",
        "\n",
        "experiment_minimax_vs_random()"
      ]
    },
    {
      "cell_type": "markdown",
      "source": [
        "#NOTE\n",
        "This part is what made me late. I tried to run 5 games, this took 16 minutes per game. But originally took 80... I need to either fix the runtime on this thing or use a local next time.\n",
        "\n",
        "The end result was that Minimax won all of the games.\n",
        "\n",
        "This is pretty expected as Minimax is a proper algorithm that can take advantage of its opponent's misplays."
      ],
      "metadata": {
        "id": "oLA1Evrf_cTP"
      }
    },
    {
      "cell_type": "markdown",
      "metadata": {
        "id": "LXE2i58iL8co"
      },
      "source": [
        "## Task 4: Heuristic Alpha-Beta Tree Search [3 points]\n",
        "\n",
        "### Heuristic evaluation function\n",
        "\n",
        "Define and implement a heuristic evaluation function."
      ]
    },
    {
      "cell_type": "markdown",
      "source": [
        "A Heuristic Evaluation Function would implement the usage of Heuristics, or some calculated score value that the Agent would use to \"maximize\" its outputs.\n",
        "\n",
        "As in\n",
        "\n",
        " Example scoring :\n",
        "\n",
        "    +100 for 4 in a row\n",
        "\n",
        "    +50 for 3 in a row + 1 empty\n",
        "\n",
        "    +10 for 2 in a row + 2 empty\n",
        "\n",
        "    +1 for 1 in a row + 3 empty\n",
        "\n",
        "    0 otherwise"
      ],
      "metadata": {
        "id": "d8XVP09K6Q8g"
      }
    },
    {
      "cell_type": "markdown",
      "metadata": {
        "id": "QbIviqR6L8co"
      },
      "source": [
        "### Cutting off search\n",
        "\n",
        "Modify your Minimax Search with Alpha-Beta Pruning to cut off search at a specified depth and use the heuristic evaluation function. Experiment with different cutoff values."
      ]
    },
    {
      "cell_type": "code",
      "execution_count": 64,
      "metadata": {
        "id": "IhKCwDTPL8co"
      },
      "outputs": [],
      "source": [
        "def evaluate_window(window, player):\n",
        "    \"\"\"\n",
        "    Given a 1D array/list of length 4 (the \"window\"),\n",
        "    return a score indicating how good this window is for 'player'.\n",
        "\n",
        "    \"\"\"\n",
        "    # Count occurrences\n",
        "    count_self = np.count_nonzero(window == player)\n",
        "    count_opp  = np.count_nonzero(window == -player)\n",
        "    count_empty = np.count_nonzero(window == 0)\n",
        "\n",
        "    # If window contains both player's discs => worthless to either\n",
        "    if count_self > 0 and count_opp > 0:\n",
        "        return 0\n",
        "\n",
        "    # Score lines that are exclusively ours or exclusively empty\n",
        "    if count_self == 4:\n",
        "        return 10000\n",
        "    elif count_self == 3 and count_empty == 1:\n",
        "        return 50\n",
        "    elif count_self == 2 and count_empty == 2:\n",
        "        return 10\n",
        "    elif count_self == 1 and count_empty == 3:\n",
        "        return 1\n",
        "\n",
        "    return 0\n",
        "\n",
        "def heuristic_evaluation(board):\n",
        "    \"\"\"\n",
        "    Returns a heuristic value indicating how good the board is for each player\n",
        "\n",
        "    \"\"\"\n",
        "    rows, cols = board.shape\n",
        "    score_p1 = 0\n",
        "    score_p2 = 0\n",
        "\n",
        "    # --- Horizontal ---\n",
        "    for r in range(rows):\n",
        "        for c in range(cols - 3):\n",
        "            window = board[r, c:c+4]\n",
        "            score_p1 += evaluate_window(window, +1)\n",
        "            score_p2 += evaluate_window(window, -1)\n",
        "\n",
        "    # --- Vertical ---\n",
        "    for r in range(rows - 3):\n",
        "        for c in range(cols):\n",
        "            window = board[r:r+4, c]\n",
        "            score_p1 += evaluate_window(window, +1)\n",
        "            score_p2 += evaluate_window(window, -1)\n",
        "\n",
        "    # --- Diagonal (down-right) ---\n",
        "    for r in range(rows - 3):\n",
        "        for c in range(cols - 3):\n",
        "            window = [board[r+i, c+i] for i in range(4)]\n",
        "            score_p1 += evaluate_window(window, +1)\n",
        "            score_p2 += evaluate_window(window, -1)\n",
        "\n",
        "    # --- Diagonal (down-left) ---\n",
        "    for r in range(rows - 3):\n",
        "        for c in range(3, cols):\n",
        "            window = [board[r+i, c-i] for i in range(4)]\n",
        "            score_p1 += evaluate_window(window, +1)\n",
        "            score_p2 += evaluate_window(window, -1)\n",
        "\n",
        "    return score_p1 - score_p2\n",
        "\n",
        "def alpha_beta_search(board, player, last_move_was_mean, alpha, beta, depth, max_depth):\n",
        "    # 1) Terminal test\n",
        "    if terminal(board):\n",
        "        # Return actual utility if it's truly terminal\n",
        "        return utility(board), None\n",
        "    # 2) Depth cutoff\n",
        "    if depth >= max_depth:\n",
        "        # Return heuristic eval instead of True utility\n",
        "        return heuristic_evaluation(board), None\n",
        "\n",
        "    # 3) Normal alpha-beta logic...\n",
        "    if player == +1:\n",
        "        return max_value_ab(board, player, last_move_was_mean, alpha, beta, depth, max_depth)\n",
        "    else:\n",
        "        return min_value_ab(board, player, last_move_was_mean, alpha, beta, depth, max_depth)\n",
        "\n",
        "def max_value_ab(board, player, last_move_was_mean, alpha, beta, depth, max_depth):\n",
        "    v = -float('inf')\n",
        "    best_move = None\n",
        "    possible_moves = actions(board, player, last_move_was_mean)\n",
        "    if not possible_moves:\n",
        "        return heuristic_evaluation(board), None\n",
        "    for a in possible_moves:\n",
        "        new_board, next_player, new_mean = result(board, a, player, last_move_was_mean)\n",
        "        v2, _ = alpha_beta_search(new_board, next_player, new_mean, alpha, beta, depth+1, max_depth)\n",
        "        if v2 > v:\n",
        "            v = v2\n",
        "            best_move = a\n",
        "        alpha = max(alpha, v)\n",
        "        if alpha >= beta:\n",
        "            break\n",
        "    return v, best_move\n",
        "\n",
        "def min_value_ab(board, player, last_move_was_mean, alpha, beta, depth, max_depth):\n",
        "    v = float('inf')\n",
        "    best_move = None\n",
        "    possible_moves = actions(board, player, last_move_was_mean)\n",
        "    if not possible_moves:\n",
        "        return heuristic_evaluation(board), None\n",
        "    for a in possible_moves:\n",
        "        new_board, next_player, new_mean = result(board, a, player, last_move_was_mean)\n",
        "        v2, _ = alpha_beta_search(new_board, next_player, new_mean, alpha, beta, depth+1, max_depth)\n",
        "        if v2 < v:\n",
        "            v = v2\n",
        "            best_move = a\n",
        "        beta = min(beta, v)\n",
        "        if beta <= alpha:\n",
        "            break\n",
        "    return v, best_move\n",
        "\n",
        "def heuristic_alpha_beta_agent(board, player, last_move_was_mean=False, max_depth=4):\n",
        "    alpha, beta = -float('inf'), float('inf')\n",
        "    best_val, best_move = alpha_beta_search(board, player, last_move_was_mean, alpha, beta, depth=0, max_depth=max_depth)\n",
        "    return best_move"
      ]
    },
    {
      "cell_type": "markdown",
      "metadata": {
        "id": "NBpYGvxBL8co"
      },
      "source": [
        "Experiment with the same manually created boards as above to check if the agent spots winning opportunities."
      ]
    },
    {
      "cell_type": "code",
      "execution_count": 54,
      "metadata": {
        "id": "KHqb_K5YL8co",
        "colab": {
          "base_uri": "https://localhost:8080/"
        },
        "outputId": "d576510b-fd13-467d-e2ed-16e986866c0c"
      },
      "outputs": [
        {
          "output_type": "stream",
          "name": "stdout",
          "text": [
            "Board:\n",
            " [[ 0  0  0  0]\n",
            " [ 0  0  0  0]\n",
            " [ 0  0  0  0]\n",
            " [ 1  1  1 -1]]\n",
            "Player to move: 1, last_move_mean=False\n",
            "Heuristic Alpha-Beta chooses: ('regular', 3)\n",
            "Time taken: 0.069179 seconds\n",
            "--------------------------------------------------\n",
            "Board:\n",
            " [[ 0  0  0  0]\n",
            " [ 0  0  0  0]\n",
            " [ 1  0 -1  0]\n",
            " [ 1  1 -1  0]]\n",
            "Player to move: -1, last_move_mean=False\n",
            "Heuristic Alpha-Beta chooses: ('regular', 0)\n",
            "Time taken: 0.025680 seconds\n",
            "--------------------------------------------------\n",
            "Board:\n",
            " [[ 0  0  0  0]\n",
            " [ 0  1 -1  0]\n",
            " [ 0  1  1 -1]\n",
            " [ 1 -1  1 -1]]\n",
            "Player to move: 1, last_move_mean=False\n",
            "Heuristic Alpha-Beta chooses: ('regular', 0)\n",
            "Time taken: 0.094388 seconds\n",
            "--------------------------------------------------\n",
            "Board:\n",
            " [[ 0  0  0  0]\n",
            " [ 0  0  0  0]\n",
            " [ 0  0  0  0]\n",
            " [ 1  0  0  0]\n",
            " [ 1 -1  0  0]\n",
            " [ 1 -1  0  0]]\n",
            "Player to move: 1, last_move_mean=False\n",
            "Heuristic Alpha-Beta chooses: ('regular', 1)\n",
            "Time taken: 0.144255 seconds\n",
            "--------------------------------------------------\n",
            "Board:\n",
            " [[ 1  1 -1  1  0  0]\n",
            " [ 1 -1  1  1 -1  0]\n",
            " [ 1  1  1 -1  1 -1]\n",
            " [ 1 -1 -1  1  1 -1]]\n",
            "Player to move: -1, last_move_mean=False\n",
            "Heuristic Alpha-Beta chooses: None\n",
            "Time taken: 0.000434 seconds\n",
            "--------------------------------------------------\n"
          ]
        }
      ],
      "source": [
        "def test_heuristic_on_board(board, player, last_move_mean=False, max_depth=4):\n",
        "    \"\"\"\n",
        "    1) Print the board\n",
        "    2) Run the heuristic alpha-beta agent\n",
        "    3) Print the chosen action and time\n",
        "    \"\"\"\n",
        "    print(\"Board:\\n\", board)\n",
        "    print(f\"Player to move: {player}, last_move_mean={last_move_mean}\")\n",
        "\n",
        "    start_t = time.perf_counter()\n",
        "    move = heuristic_alpha_beta_agent(board, player, last_move_mean, max_depth)\n",
        "    end_t = time.perf_counter()\n",
        "\n",
        "    print(f\"Heuristic Alpha-Beta chooses: {move}\")\n",
        "    print(f\"Time taken: {end_t - start_t:.6f} seconds\\n{'-'*50}\")\n",
        "\n",
        "\n",
        "board1 = np.zeros((4,4), dtype=int)\n",
        "board1[3,0] = +1\n",
        "board1[3,1] = +1\n",
        "board1[3,2] = +1\n",
        "board1[3,3] = -1\n",
        "\n",
        "test_heuristic_on_board(board1, player=+1, max_depth=4)\n",
        "\n",
        "\n",
        "board2 = np.zeros((4,4), dtype=int)\n",
        "board2[3,0] = +1\n",
        "board2[3,1] = +1\n",
        "board2[2,0] = +1\n",
        "board2[3,2] = -1\n",
        "board2[2,2] = -1\n",
        "test_heuristic_on_board(board2, player=-1, max_depth=4)\n",
        "\n",
        "board3 = np.array([\n",
        "    [ 0,  0,  0,  0],\n",
        "    [ 0, +1, -1,  0],\n",
        "    [ 0, +1, +1, -1],\n",
        "    [+1, -1, +1, -1]\n",
        "])\n",
        "test_heuristic_on_board(board3, player=+1, max_depth=5)\n",
        "\n",
        "board4 = np.zeros((6,4), dtype=int)\n",
        "board4[5,0] = +1\n",
        "board4[4,0] = +1\n",
        "board4[3,0] = +1\n",
        "board4[5,1] = -1\n",
        "board4[4,1] = -1\n",
        "test_heuristic_on_board(board4, player=+1, max_depth=5)\n",
        "\n",
        "board5 = np.array([\n",
        "    [+1, +1, -1, +1,  0,  0],\n",
        "    [+1, -1, +1, +1, -1,  0],\n",
        "    [+1, +1, +1, -1, +1, -1],\n",
        "    [+1, -1, -1, +1, +1, -1]\n",
        "])\n",
        "test_heuristic_on_board(board5, player=-1, max_depth=5)\n"
      ]
    },
    {
      "cell_type": "markdown",
      "metadata": {
        "id": "ZaBC7W7VL8cp"
      },
      "source": [
        "How long does it take to make a move? Start with a smaller board with 4 columns and make the board larger by adding columns."
      ]
    },
    {
      "cell_type": "markdown",
      "source": [
        "It takes a minimal amount of time for it to perform most of its tasks"
      ],
      "metadata": {
        "id": "Yoy0VMrk8uyH"
      }
    },
    {
      "cell_type": "markdown",
      "metadata": {
        "id": "bokyrXrkL8cp"
      },
      "source": [
        "### Playtime\n",
        "\n",
        "Let two heuristic search agents (different cutoff depth, different heuristic evaluation function) compete against each other on a reasonably sized board. Since there is no randomness, you only need to let them play once."
      ]
    },
    {
      "cell_type": "code",
      "execution_count": 65,
      "metadata": {
        "id": "hUILjLbdL8cp",
        "colab": {
          "base_uri": "https://localhost:8080/"
        },
        "outputId": "1a9f62e5-5bbf-4f23-ffc6-d0987fcfb74b"
      },
      "outputs": [
        {
          "output_type": "stream",
          "name": "stdout",
          "text": [
            "Move 1. Player 1 did: ('regular', 3)\n",
            "[[0 0 0 0 0 0 0]\n",
            " [0 0 0 0 0 0 0]\n",
            " [0 0 0 0 0 0 0]\n",
            " [0 0 0 0 0 0 0]\n",
            " [0 0 0 0 0 0 0]\n",
            " [0 0 0 1 0 0 0]] \n",
            "\n",
            "Move 2. Player -1 did: ('regular', 3)\n",
            "[[ 0  0  0  0  0  0  0]\n",
            " [ 0  0  0  0  0  0  0]\n",
            " [ 0  0  0  0  0  0  0]\n",
            " [ 0  0  0  0  0  0  0]\n",
            " [ 0  0  0 -1  0  0  0]\n",
            " [ 0  0  0  1  0  0  0]] \n",
            "\n",
            "Move 3. Player 1 did: ('regular', 3)\n",
            "[[ 0  0  0  0  0  0  0]\n",
            " [ 0  0  0  0  0  0  0]\n",
            " [ 0  0  0  0  0  0  0]\n",
            " [ 0  0  0  1  0  0  0]\n",
            " [ 0  0  0 -1  0  0  0]\n",
            " [ 0  0  0  1  0  0  0]] \n",
            "\n",
            "Move 4. Player -1 did: ('regular', 2)\n",
            "[[ 0  0  0  0  0  0  0]\n",
            " [ 0  0  0  0  0  0  0]\n",
            " [ 0  0  0  0  0  0  0]\n",
            " [ 0  0  0  1  0  0  0]\n",
            " [ 0  0  0 -1  0  0  0]\n",
            " [ 0  0 -1  1  0  0  0]] \n",
            "\n",
            "Move 5. Player 1 did: ('regular', 3)\n",
            "[[ 0  0  0  0  0  0  0]\n",
            " [ 0  0  0  0  0  0  0]\n",
            " [ 0  0  0  1  0  0  0]\n",
            " [ 0  0  0  1  0  0  0]\n",
            " [ 0  0  0 -1  0  0  0]\n",
            " [ 0  0 -1  1  0  0  0]] \n",
            "\n",
            "Move 6. Player -1 did: ('regular', 4)\n",
            "[[ 0  0  0  0  0  0  0]\n",
            " [ 0  0  0  0  0  0  0]\n",
            " [ 0  0  0  1  0  0  0]\n",
            " [ 0  0  0  1  0  0  0]\n",
            " [ 0  0  0 -1  0  0  0]\n",
            " [ 0  0 -1  1 -1  0  0]] \n",
            "\n",
            "Move 7. Player 1 did: ('regular', 2)\n",
            "[[ 0  0  0  0  0  0  0]\n",
            " [ 0  0  0  0  0  0  0]\n",
            " [ 0  0  0  1  0  0  0]\n",
            " [ 0  0  0  1  0  0  0]\n",
            " [ 0  0  1 -1  0  0  0]\n",
            " [ 0  0 -1  1 -1  0  0]] \n",
            "\n",
            "Move 8. Player -1 did: ('regular', 5)\n",
            "[[ 0  0  0  0  0  0  0]\n",
            " [ 0  0  0  0  0  0  0]\n",
            " [ 0  0  0  1  0  0  0]\n",
            " [ 0  0  0  1  0  0  0]\n",
            " [ 0  0  1 -1  0  0  0]\n",
            " [ 0  0 -1  1 -1 -1  0]] \n",
            "\n",
            "Move 9. Player 1 did: ('regular', 3)\n",
            "[[ 0  0  0  0  0  0  0]\n",
            " [ 0  0  0  1  0  0  0]\n",
            " [ 0  0  0  1  0  0  0]\n",
            " [ 0  0  0  1  0  0  0]\n",
            " [ 0  0  1 -1  0  0  0]\n",
            " [ 0  0 -1  1 -1 -1  0]] \n",
            "\n",
            "Move 10. Player -1 did: ('mean', 3)\n",
            "[[ 0  0  0  0  0  0  0]\n",
            " [ 0  0  0  1  0  0  0]\n",
            " [ 0  0  0  1  0  0  0]\n",
            " [ 0  0  0  1  0  0  0]\n",
            " [ 0  0  1  1  0  0  0]\n",
            " [ 0  0 -1 -1 -1 -1  0]] \n",
            "\n",
            "It's a tie!\n",
            "Final board:\n",
            "[[ 0  0  0  0  0  0  0]\n",
            " [ 0  0  0  1  0  0  0]\n",
            " [ 0  0  0  1  0  0  0]\n",
            " [ 0  0  0  1  0  0  0]\n",
            " [ 0  0  1  1  0  0  0]\n",
            " [ 0  0 -1 -1 -1 -1  0]]\n",
            "Total time: 209.610 seconds\n"
          ]
        }
      ],
      "source": [
        "def play_game(agent1, agent2, rows=6, cols=7, verbose=False):\n",
        "    board = np.zeros((rows, cols), dtype=int)\n",
        "    current_player = +1\n",
        "    last_mean = False\n",
        "    move_count = 0\n",
        "\n",
        "    while not terminal(board):\n",
        "        if current_player == +1:\n",
        "            action = heuristic_alpha_beta_agent(board, +1, last_mean,4)\n",
        "        else:\n",
        "            action = heuristic_alpha_beta_agent(board, -1, last_mean,6)\n",
        "\n",
        "        if not action:\n",
        "            # no moves => must be terminal\n",
        "            break\n",
        "\n",
        "        new_board, next_p, new_mean = result(board, action, current_player, last_mean)\n",
        "        board = new_board\n",
        "        current_player = next_p\n",
        "        last_mean = new_mean\n",
        "        move_count += 1\n",
        "\n",
        "        if verbose:\n",
        "            print(f\"Move {move_count}. Player { -current_player } did: {action}\")\n",
        "            print(board, \"\\n\")\n",
        "\n",
        "    final_util = utility(board)\n",
        "    if final_util == +1:\n",
        "        print(\"Agent A (depth=4) wins!\")\n",
        "    elif final_util == -1:\n",
        "        print(\"Agent B (depth=6) wins!\")\n",
        "    else:\n",
        "        print(\"It's a tie!\")\n",
        "\n",
        "    if verbose:\n",
        "        print(\"Final board:\")\n",
        "        print(board)\n",
        "if __name__ == \"__main__\":\n",
        "    start_t = time.perf_counter()\n",
        "    play_game(heuristic_alpha_beta_agent, heuristic_alpha_beta_agent, rows=6, cols=7, verbose=True)\n",
        "    end_t = time.perf_counter()\n",
        "    print(f\"Total time: {end_t - start_t:.3f} seconds\")"
      ]
    },
    {
      "cell_type": "markdown",
      "metadata": {
        "id": "UFhDH9M_L8cp"
      },
      "source": [
        "---\n",
        "Assignment adapted from [Michael Hahsler](https://github.com/mhahsler/CS7320-AI) under [CC BY-SA](https://creativecommons.org/licenses/by-sa/4.0/deed.en) license.\n"
      ]
    }
  ],
  "metadata": {
    "kernelspec": {
      "display_name": "Python 3 (ipykernel)",
      "language": "python",
      "name": "python3"
    },
    "language_info": {
      "codemirror_mode": {
        "name": "ipython",
        "version": 3
      },
      "file_extension": ".py",
      "mimetype": "text/x-python",
      "name": "python",
      "nbconvert_exporter": "python",
      "pygments_lexer": "ipython3",
      "version": "3.9.5"
    },
    "colab": {
      "provenance": [],
      "include_colab_link": true
    }
  },
  "nbformat": 4,
  "nbformat_minor": 0
}